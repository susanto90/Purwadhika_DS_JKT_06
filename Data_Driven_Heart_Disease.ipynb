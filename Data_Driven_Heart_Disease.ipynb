{
 "cells": [
  {
   "cell_type": "markdown",
   "metadata": {
    "ExecuteTime": {
     "end_time": "2019-10-30T16:00:29.757083Z",
     "start_time": "2019-10-30T16:00:29.752079Z"
    }
   },
   "source": [
    "Group members:\n",
    "1. Susanto\n",
    "2. Ina Chaerunnissa Farid\n",
    "3. Ika Dyah Widya Ningrum\n",
    "4. Tenti Astria Purba\n",
    "5. Gusti Adli Anshari"
   ]
  },
  {
   "cell_type": "markdown",
   "metadata": {},
   "source": [
    "## Preparation"
   ]
  },
  {
   "cell_type": "code",
   "execution_count": 1,
   "metadata": {
    "ExecuteTime": {
     "end_time": "2019-10-30T17:13:35.553145Z",
     "start_time": "2019-10-30T17:13:31.869518Z"
    }
   },
   "outputs": [],
   "source": [
    "import pandas as pd\n",
    "import numpy as np\n",
    "import matplotlib.pyplot as plt\n",
    "import seaborn as sns\n",
    "%matplotlib inline"
   ]
  },
  {
   "cell_type": "code",
   "execution_count": 2,
   "metadata": {
    "ExecuteTime": {
     "end_time": "2019-10-30T17:13:35.609148Z",
     "start_time": "2019-10-30T17:13:35.557149Z"
    }
   },
   "outputs": [],
   "source": [
    "X = pd.read_csv('../train_values.csv', index_col = 'patient_id')\n",
    "y = pd.read_csv('../train_labels.csv', index_col = 'patient_id')"
   ]
  },
  {
   "cell_type": "code",
   "execution_count": 3,
   "metadata": {
    "ExecuteTime": {
     "end_time": "2019-10-30T17:13:35.739301Z",
     "start_time": "2019-10-30T17:13:35.621152Z"
    }
   },
   "outputs": [
    {
     "data": {
      "text/html": [
       "<div>\n",
       "<style scoped>\n",
       "    .dataframe tbody tr th:only-of-type {\n",
       "        vertical-align: middle;\n",
       "    }\n",
       "\n",
       "    .dataframe tbody tr th {\n",
       "        vertical-align: top;\n",
       "    }\n",
       "\n",
       "    .dataframe thead th {\n",
       "        text-align: right;\n",
       "    }\n",
       "</style>\n",
       "<table border=\"1\" class=\"dataframe\">\n",
       "  <thead>\n",
       "    <tr style=\"text-align: right;\">\n",
       "      <th></th>\n",
       "      <th>slope_of_peak_exercise_st_segment</th>\n",
       "      <th>thal</th>\n",
       "      <th>resting_blood_pressure</th>\n",
       "      <th>chest_pain_type</th>\n",
       "      <th>num_major_vessels</th>\n",
       "      <th>fasting_blood_sugar_gt_120_mg_per_dl</th>\n",
       "      <th>resting_ekg_results</th>\n",
       "      <th>serum_cholesterol_mg_per_dl</th>\n",
       "      <th>oldpeak_eq_st_depression</th>\n",
       "      <th>sex</th>\n",
       "      <th>age</th>\n",
       "      <th>max_heart_rate_achieved</th>\n",
       "      <th>exercise_induced_angina</th>\n",
       "    </tr>\n",
       "    <tr>\n",
       "      <th>patient_id</th>\n",
       "      <th></th>\n",
       "      <th></th>\n",
       "      <th></th>\n",
       "      <th></th>\n",
       "      <th></th>\n",
       "      <th></th>\n",
       "      <th></th>\n",
       "      <th></th>\n",
       "      <th></th>\n",
       "      <th></th>\n",
       "      <th></th>\n",
       "      <th></th>\n",
       "      <th></th>\n",
       "    </tr>\n",
       "  </thead>\n",
       "  <tbody>\n",
       "    <tr>\n",
       "      <th>0z64un</th>\n",
       "      <td>1</td>\n",
       "      <td>normal</td>\n",
       "      <td>128</td>\n",
       "      <td>2</td>\n",
       "      <td>0</td>\n",
       "      <td>0</td>\n",
       "      <td>2</td>\n",
       "      <td>308</td>\n",
       "      <td>0.0</td>\n",
       "      <td>1</td>\n",
       "      <td>45</td>\n",
       "      <td>170</td>\n",
       "      <td>0</td>\n",
       "    </tr>\n",
       "    <tr>\n",
       "      <th>ryoo3j</th>\n",
       "      <td>2</td>\n",
       "      <td>normal</td>\n",
       "      <td>110</td>\n",
       "      <td>3</td>\n",
       "      <td>0</td>\n",
       "      <td>0</td>\n",
       "      <td>0</td>\n",
       "      <td>214</td>\n",
       "      <td>1.6</td>\n",
       "      <td>0</td>\n",
       "      <td>54</td>\n",
       "      <td>158</td>\n",
       "      <td>0</td>\n",
       "    </tr>\n",
       "    <tr>\n",
       "      <th>yt1s1x</th>\n",
       "      <td>1</td>\n",
       "      <td>normal</td>\n",
       "      <td>125</td>\n",
       "      <td>4</td>\n",
       "      <td>3</td>\n",
       "      <td>0</td>\n",
       "      <td>2</td>\n",
       "      <td>304</td>\n",
       "      <td>0.0</td>\n",
       "      <td>1</td>\n",
       "      <td>77</td>\n",
       "      <td>162</td>\n",
       "      <td>1</td>\n",
       "    </tr>\n",
       "    <tr>\n",
       "      <th>l2xjde</th>\n",
       "      <td>1</td>\n",
       "      <td>reversible_defect</td>\n",
       "      <td>152</td>\n",
       "      <td>4</td>\n",
       "      <td>0</td>\n",
       "      <td>0</td>\n",
       "      <td>0</td>\n",
       "      <td>223</td>\n",
       "      <td>0.0</td>\n",
       "      <td>1</td>\n",
       "      <td>40</td>\n",
       "      <td>181</td>\n",
       "      <td>0</td>\n",
       "    </tr>\n",
       "    <tr>\n",
       "      <th>oyt4ek</th>\n",
       "      <td>3</td>\n",
       "      <td>reversible_defect</td>\n",
       "      <td>178</td>\n",
       "      <td>1</td>\n",
       "      <td>0</td>\n",
       "      <td>0</td>\n",
       "      <td>2</td>\n",
       "      <td>270</td>\n",
       "      <td>4.2</td>\n",
       "      <td>1</td>\n",
       "      <td>59</td>\n",
       "      <td>145</td>\n",
       "      <td>0</td>\n",
       "    </tr>\n",
       "  </tbody>\n",
       "</table>\n",
       "</div>"
      ],
      "text/plain": [
       "            slope_of_peak_exercise_st_segment               thal  \\\n",
       "patient_id                                                         \n",
       "0z64un                                      1             normal   \n",
       "ryoo3j                                      2             normal   \n",
       "yt1s1x                                      1             normal   \n",
       "l2xjde                                      1  reversible_defect   \n",
       "oyt4ek                                      3  reversible_defect   \n",
       "\n",
       "            resting_blood_pressure  chest_pain_type  num_major_vessels  \\\n",
       "patient_id                                                               \n",
       "0z64un                         128                2                  0   \n",
       "ryoo3j                         110                3                  0   \n",
       "yt1s1x                         125                4                  3   \n",
       "l2xjde                         152                4                  0   \n",
       "oyt4ek                         178                1                  0   \n",
       "\n",
       "            fasting_blood_sugar_gt_120_mg_per_dl  resting_ekg_results  \\\n",
       "patient_id                                                              \n",
       "0z64un                                         0                    2   \n",
       "ryoo3j                                         0                    0   \n",
       "yt1s1x                                         0                    2   \n",
       "l2xjde                                         0                    0   \n",
       "oyt4ek                                         0                    2   \n",
       "\n",
       "            serum_cholesterol_mg_per_dl  oldpeak_eq_st_depression  sex  age  \\\n",
       "patient_id                                                                    \n",
       "0z64un                              308                       0.0    1   45   \n",
       "ryoo3j                              214                       1.6    0   54   \n",
       "yt1s1x                              304                       0.0    1   77   \n",
       "l2xjde                              223                       0.0    1   40   \n",
       "oyt4ek                              270                       4.2    1   59   \n",
       "\n",
       "            max_heart_rate_achieved  exercise_induced_angina  \n",
       "patient_id                                                    \n",
       "0z64un                          170                        0  \n",
       "ryoo3j                          158                        0  \n",
       "yt1s1x                          162                        1  \n",
       "l2xjde                          181                        0  \n",
       "oyt4ek                          145                        0  "
      ]
     },
     "execution_count": 3,
     "metadata": {},
     "output_type": "execute_result"
    }
   ],
   "source": [
    "X.head()"
   ]
  },
  {
   "cell_type": "code",
   "execution_count": 4,
   "metadata": {
    "ExecuteTime": {
     "end_time": "2019-10-30T17:13:35.881401Z",
     "start_time": "2019-10-30T17:13:35.750308Z"
    },
    "scrolled": true
   },
   "outputs": [
    {
     "data": {
      "text/html": [
       "<div>\n",
       "<style scoped>\n",
       "    .dataframe tbody tr th:only-of-type {\n",
       "        vertical-align: middle;\n",
       "    }\n",
       "\n",
       "    .dataframe tbody tr th {\n",
       "        vertical-align: top;\n",
       "    }\n",
       "\n",
       "    .dataframe thead th {\n",
       "        text-align: right;\n",
       "    }\n",
       "</style>\n",
       "<table border=\"1\" class=\"dataframe\">\n",
       "  <thead>\n",
       "    <tr style=\"text-align: right;\">\n",
       "      <th></th>\n",
       "      <th>slope_of_peak_exercise_st_segment</th>\n",
       "      <th>resting_ekg_results</th>\n",
       "      <th>oldpeak_eq_st_depression</th>\n",
       "    </tr>\n",
       "    <tr>\n",
       "      <th>patient_id</th>\n",
       "      <th></th>\n",
       "      <th></th>\n",
       "      <th></th>\n",
       "    </tr>\n",
       "  </thead>\n",
       "  <tbody>\n",
       "    <tr>\n",
       "      <th>ryoo3j</th>\n",
       "      <td>2</td>\n",
       "      <td>0</td>\n",
       "      <td>1.6</td>\n",
       "    </tr>\n",
       "    <tr>\n",
       "      <th>oyt4ek</th>\n",
       "      <td>3</td>\n",
       "      <td>2</td>\n",
       "      <td>4.2</td>\n",
       "    </tr>\n",
       "    <tr>\n",
       "      <th>2gbyh9</th>\n",
       "      <td>2</td>\n",
       "      <td>2</td>\n",
       "      <td>2.6</td>\n",
       "    </tr>\n",
       "    <tr>\n",
       "      <th>daa9kp</th>\n",
       "      <td>2</td>\n",
       "      <td>2</td>\n",
       "      <td>0.6</td>\n",
       "    </tr>\n",
       "    <tr>\n",
       "      <th>3nwy2n</th>\n",
       "      <td>3</td>\n",
       "      <td>2</td>\n",
       "      <td>3.4</td>\n",
       "    </tr>\n",
       "    <tr>\n",
       "      <th>1r508r</th>\n",
       "      <td>2</td>\n",
       "      <td>0</td>\n",
       "      <td>1.6</td>\n",
       "    </tr>\n",
       "    <tr>\n",
       "      <th>ldg4b9</th>\n",
       "      <td>2</td>\n",
       "      <td>2</td>\n",
       "      <td>0.4</td>\n",
       "    </tr>\n",
       "    <tr>\n",
       "      <th>zlyac8</th>\n",
       "      <td>2</td>\n",
       "      <td>2</td>\n",
       "      <td>0.2</td>\n",
       "    </tr>\n",
       "    <tr>\n",
       "      <th>f06u72</th>\n",
       "      <td>2</td>\n",
       "      <td>0</td>\n",
       "      <td>3.8</td>\n",
       "    </tr>\n",
       "    <tr>\n",
       "      <th>2fv3rc</th>\n",
       "      <td>2</td>\n",
       "      <td>2</td>\n",
       "      <td>0.9</td>\n",
       "    </tr>\n",
       "    <tr>\n",
       "      <th>qyrkxn</th>\n",
       "      <td>2</td>\n",
       "      <td>2</td>\n",
       "      <td>0.6</td>\n",
       "    </tr>\n",
       "    <tr>\n",
       "      <th>237mql</th>\n",
       "      <td>1</td>\n",
       "      <td>0</td>\n",
       "      <td>1.4</td>\n",
       "    </tr>\n",
       "    <tr>\n",
       "      <th>cvux3j</th>\n",
       "      <td>1</td>\n",
       "      <td>0</td>\n",
       "      <td>0.4</td>\n",
       "    </tr>\n",
       "    <tr>\n",
       "      <th>k8899q</th>\n",
       "      <td>1</td>\n",
       "      <td>0</td>\n",
       "      <td>0.1</td>\n",
       "    </tr>\n",
       "    <tr>\n",
       "      <th>jhdvtb</th>\n",
       "      <td>1</td>\n",
       "      <td>0</td>\n",
       "      <td>0.3</td>\n",
       "    </tr>\n",
       "    <tr>\n",
       "      <th>5g9v0h</th>\n",
       "      <td>1</td>\n",
       "      <td>2</td>\n",
       "      <td>2.3</td>\n",
       "    </tr>\n",
       "    <tr>\n",
       "      <th>gla0im</th>\n",
       "      <td>2</td>\n",
       "      <td>2</td>\n",
       "      <td>1.5</td>\n",
       "    </tr>\n",
       "    <tr>\n",
       "      <th>lek9q9</th>\n",
       "      <td>2</td>\n",
       "      <td>2</td>\n",
       "      <td>3.0</td>\n",
       "    </tr>\n",
       "    <tr>\n",
       "      <th>8265rl</th>\n",
       "      <td>1</td>\n",
       "      <td>0</td>\n",
       "      <td>0.6</td>\n",
       "    </tr>\n",
       "    <tr>\n",
       "      <th>6017a1</th>\n",
       "      <td>2</td>\n",
       "      <td>2</td>\n",
       "      <td>2.0</td>\n",
       "    </tr>\n",
       "    <tr>\n",
       "      <th>z7xkou</th>\n",
       "      <td>2</td>\n",
       "      <td>2</td>\n",
       "      <td>1.0</td>\n",
       "    </tr>\n",
       "    <tr>\n",
       "      <th>k7ef7h</th>\n",
       "      <td>3</td>\n",
       "      <td>2</td>\n",
       "      <td>3.1</td>\n",
       "    </tr>\n",
       "    <tr>\n",
       "      <th>55xksg</th>\n",
       "      <td>2</td>\n",
       "      <td>2</td>\n",
       "      <td>2.5</td>\n",
       "    </tr>\n",
       "    <tr>\n",
       "      <th>xkdz7j</th>\n",
       "      <td>1</td>\n",
       "      <td>0</td>\n",
       "      <td>0.2</td>\n",
       "    </tr>\n",
       "    <tr>\n",
       "      <th>ascl42</th>\n",
       "      <td>1</td>\n",
       "      <td>2</td>\n",
       "      <td>0.2</td>\n",
       "    </tr>\n",
       "    <tr>\n",
       "      <th>ty4ik8</th>\n",
       "      <td>2</td>\n",
       "      <td>0</td>\n",
       "      <td>1.0</td>\n",
       "    </tr>\n",
       "    <tr>\n",
       "      <th>yx0q6k</th>\n",
       "      <td>1</td>\n",
       "      <td>2</td>\n",
       "      <td>0.8</td>\n",
       "    </tr>\n",
       "    <tr>\n",
       "      <th>gj1e5z</th>\n",
       "      <td>1</td>\n",
       "      <td>0</td>\n",
       "      <td>0.3</td>\n",
       "    </tr>\n",
       "    <tr>\n",
       "      <th>6219kl</th>\n",
       "      <td>2</td>\n",
       "      <td>2</td>\n",
       "      <td>2.4</td>\n",
       "    </tr>\n",
       "    <tr>\n",
       "      <th>rp9g6x</th>\n",
       "      <td>2</td>\n",
       "      <td>0</td>\n",
       "      <td>1.6</td>\n",
       "    </tr>\n",
       "    <tr>\n",
       "      <th>...</th>\n",
       "      <td>...</td>\n",
       "      <td>...</td>\n",
       "      <td>...</td>\n",
       "    </tr>\n",
       "    <tr>\n",
       "      <th>f1ziva</th>\n",
       "      <td>1</td>\n",
       "      <td>2</td>\n",
       "      <td>3.2</td>\n",
       "    </tr>\n",
       "    <tr>\n",
       "      <th>08usun</th>\n",
       "      <td>1</td>\n",
       "      <td>0</td>\n",
       "      <td>0.4</td>\n",
       "    </tr>\n",
       "    <tr>\n",
       "      <th>9upsjl</th>\n",
       "      <td>2</td>\n",
       "      <td>0</td>\n",
       "      <td>1.4</td>\n",
       "    </tr>\n",
       "    <tr>\n",
       "      <th>noxsnw</th>\n",
       "      <td>3</td>\n",
       "      <td>0</td>\n",
       "      <td>5.6</td>\n",
       "    </tr>\n",
       "    <tr>\n",
       "      <th>471q03</th>\n",
       "      <td>2</td>\n",
       "      <td>2</td>\n",
       "      <td>1.9</td>\n",
       "    </tr>\n",
       "    <tr>\n",
       "      <th>7eyvsi</th>\n",
       "      <td>2</td>\n",
       "      <td>2</td>\n",
       "      <td>2.0</td>\n",
       "    </tr>\n",
       "    <tr>\n",
       "      <th>a946ij</th>\n",
       "      <td>2</td>\n",
       "      <td>2</td>\n",
       "      <td>2.2</td>\n",
       "    </tr>\n",
       "    <tr>\n",
       "      <th>z8yl4y</th>\n",
       "      <td>1</td>\n",
       "      <td>0</td>\n",
       "      <td>1.4</td>\n",
       "    </tr>\n",
       "    <tr>\n",
       "      <th>mxabaz</th>\n",
       "      <td>2</td>\n",
       "      <td>0</td>\n",
       "      <td>2.6</td>\n",
       "    </tr>\n",
       "    <tr>\n",
       "      <th>8c36yw</th>\n",
       "      <td>2</td>\n",
       "      <td>2</td>\n",
       "      <td>0.4</td>\n",
       "    </tr>\n",
       "    <tr>\n",
       "      <th>9at0il</th>\n",
       "      <td>3</td>\n",
       "      <td>2</td>\n",
       "      <td>0.5</td>\n",
       "    </tr>\n",
       "    <tr>\n",
       "      <th>nfag5b</th>\n",
       "      <td>2</td>\n",
       "      <td>0</td>\n",
       "      <td>1.6</td>\n",
       "    </tr>\n",
       "    <tr>\n",
       "      <th>43k3gx</th>\n",
       "      <td>2</td>\n",
       "      <td>0</td>\n",
       "      <td>1.2</td>\n",
       "    </tr>\n",
       "    <tr>\n",
       "      <th>02cipp</th>\n",
       "      <td>1</td>\n",
       "      <td>0</td>\n",
       "      <td>1.8</td>\n",
       "    </tr>\n",
       "    <tr>\n",
       "      <th>1ennzl</th>\n",
       "      <td>1</td>\n",
       "      <td>0</td>\n",
       "      <td>0.2</td>\n",
       "    </tr>\n",
       "    <tr>\n",
       "      <th>ewckbx</th>\n",
       "      <td>2</td>\n",
       "      <td>2</td>\n",
       "      <td>2.4</td>\n",
       "    </tr>\n",
       "    <tr>\n",
       "      <th>dtljkq</th>\n",
       "      <td>1</td>\n",
       "      <td>0</td>\n",
       "      <td>0.6</td>\n",
       "    </tr>\n",
       "    <tr>\n",
       "      <th>a2kf1z</th>\n",
       "      <td>1</td>\n",
       "      <td>0</td>\n",
       "      <td>1.4</td>\n",
       "    </tr>\n",
       "    <tr>\n",
       "      <th>usnkhx</th>\n",
       "      <td>3</td>\n",
       "      <td>2</td>\n",
       "      <td>6.2</td>\n",
       "    </tr>\n",
       "    <tr>\n",
       "      <th>qcjf51</th>\n",
       "      <td>1</td>\n",
       "      <td>2</td>\n",
       "      <td>0.8</td>\n",
       "    </tr>\n",
       "    <tr>\n",
       "      <th>7zbya5</th>\n",
       "      <td>3</td>\n",
       "      <td>2</td>\n",
       "      <td>2.3</td>\n",
       "    </tr>\n",
       "    <tr>\n",
       "      <th>23gf0e</th>\n",
       "      <td>2</td>\n",
       "      <td>2</td>\n",
       "      <td>1.8</td>\n",
       "    </tr>\n",
       "    <tr>\n",
       "      <th>qhz9ye</th>\n",
       "      <td>1</td>\n",
       "      <td>2</td>\n",
       "      <td>0.8</td>\n",
       "    </tr>\n",
       "    <tr>\n",
       "      <th>u25507</th>\n",
       "      <td>1</td>\n",
       "      <td>2</td>\n",
       "      <td>0.1</td>\n",
       "    </tr>\n",
       "    <tr>\n",
       "      <th>j9tw19</th>\n",
       "      <td>2</td>\n",
       "      <td>0</td>\n",
       "      <td>1.2</td>\n",
       "    </tr>\n",
       "    <tr>\n",
       "      <th>5o32oi</th>\n",
       "      <td>1</td>\n",
       "      <td>0</td>\n",
       "      <td>1.6</td>\n",
       "    </tr>\n",
       "    <tr>\n",
       "      <th>o63ri2</th>\n",
       "      <td>1</td>\n",
       "      <td>0</td>\n",
       "      <td>1.2</td>\n",
       "    </tr>\n",
       "    <tr>\n",
       "      <th>5qfar3</th>\n",
       "      <td>2</td>\n",
       "      <td>0</td>\n",
       "      <td>0.2</td>\n",
       "    </tr>\n",
       "    <tr>\n",
       "      <th>2s2b1f</th>\n",
       "      <td>2</td>\n",
       "      <td>1</td>\n",
       "      <td>3.4</td>\n",
       "    </tr>\n",
       "    <tr>\n",
       "      <th>nsd00i</th>\n",
       "      <td>2</td>\n",
       "      <td>0</td>\n",
       "      <td>1.8</td>\n",
       "    </tr>\n",
       "  </tbody>\n",
       "</table>\n",
       "<p>124 rows × 3 columns</p>\n",
       "</div>"
      ],
      "text/plain": [
       "            slope_of_peak_exercise_st_segment  resting_ekg_results  \\\n",
       "patient_id                                                           \n",
       "ryoo3j                                      2                    0   \n",
       "oyt4ek                                      3                    2   \n",
       "2gbyh9                                      2                    2   \n",
       "daa9kp                                      2                    2   \n",
       "3nwy2n                                      3                    2   \n",
       "1r508r                                      2                    0   \n",
       "ldg4b9                                      2                    2   \n",
       "zlyac8                                      2                    2   \n",
       "f06u72                                      2                    0   \n",
       "2fv3rc                                      2                    2   \n",
       "qyrkxn                                      2                    2   \n",
       "237mql                                      1                    0   \n",
       "cvux3j                                      1                    0   \n",
       "k8899q                                      1                    0   \n",
       "jhdvtb                                      1                    0   \n",
       "5g9v0h                                      1                    2   \n",
       "gla0im                                      2                    2   \n",
       "lek9q9                                      2                    2   \n",
       "8265rl                                      1                    0   \n",
       "6017a1                                      2                    2   \n",
       "z7xkou                                      2                    2   \n",
       "k7ef7h                                      3                    2   \n",
       "55xksg                                      2                    2   \n",
       "xkdz7j                                      1                    0   \n",
       "ascl42                                      1                    2   \n",
       "ty4ik8                                      2                    0   \n",
       "yx0q6k                                      1                    2   \n",
       "gj1e5z                                      1                    0   \n",
       "6219kl                                      2                    2   \n",
       "rp9g6x                                      2                    0   \n",
       "...                                       ...                  ...   \n",
       "f1ziva                                      1                    2   \n",
       "08usun                                      1                    0   \n",
       "9upsjl                                      2                    0   \n",
       "noxsnw                                      3                    0   \n",
       "471q03                                      2                    2   \n",
       "7eyvsi                                      2                    2   \n",
       "a946ij                                      2                    2   \n",
       "z8yl4y                                      1                    0   \n",
       "mxabaz                                      2                    0   \n",
       "8c36yw                                      2                    2   \n",
       "9at0il                                      3                    2   \n",
       "nfag5b                                      2                    0   \n",
       "43k3gx                                      2                    0   \n",
       "02cipp                                      1                    0   \n",
       "1ennzl                                      1                    0   \n",
       "ewckbx                                      2                    2   \n",
       "dtljkq                                      1                    0   \n",
       "a2kf1z                                      1                    0   \n",
       "usnkhx                                      3                    2   \n",
       "qcjf51                                      1                    2   \n",
       "7zbya5                                      3                    2   \n",
       "23gf0e                                      2                    2   \n",
       "qhz9ye                                      1                    2   \n",
       "u25507                                      1                    2   \n",
       "j9tw19                                      2                    0   \n",
       "5o32oi                                      1                    0   \n",
       "o63ri2                                      1                    0   \n",
       "5qfar3                                      2                    0   \n",
       "2s2b1f                                      2                    1   \n",
       "nsd00i                                      2                    0   \n",
       "\n",
       "            oldpeak_eq_st_depression  \n",
       "patient_id                            \n",
       "ryoo3j                           1.6  \n",
       "oyt4ek                           4.2  \n",
       "2gbyh9                           2.6  \n",
       "daa9kp                           0.6  \n",
       "3nwy2n                           3.4  \n",
       "1r508r                           1.6  \n",
       "ldg4b9                           0.4  \n",
       "zlyac8                           0.2  \n",
       "f06u72                           3.8  \n",
       "2fv3rc                           0.9  \n",
       "qyrkxn                           0.6  \n",
       "237mql                           1.4  \n",
       "cvux3j                           0.4  \n",
       "k8899q                           0.1  \n",
       "jhdvtb                           0.3  \n",
       "5g9v0h                           2.3  \n",
       "gla0im                           1.5  \n",
       "lek9q9                           3.0  \n",
       "8265rl                           0.6  \n",
       "6017a1                           2.0  \n",
       "z7xkou                           1.0  \n",
       "k7ef7h                           3.1  \n",
       "55xksg                           2.5  \n",
       "xkdz7j                           0.2  \n",
       "ascl42                           0.2  \n",
       "ty4ik8                           1.0  \n",
       "yx0q6k                           0.8  \n",
       "gj1e5z                           0.3  \n",
       "6219kl                           2.4  \n",
       "rp9g6x                           1.6  \n",
       "...                              ...  \n",
       "f1ziva                           3.2  \n",
       "08usun                           0.4  \n",
       "9upsjl                           1.4  \n",
       "noxsnw                           5.6  \n",
       "471q03                           1.9  \n",
       "7eyvsi                           2.0  \n",
       "a946ij                           2.2  \n",
       "z8yl4y                           1.4  \n",
       "mxabaz                           2.6  \n",
       "8c36yw                           0.4  \n",
       "9at0il                           0.5  \n",
       "nfag5b                           1.6  \n",
       "43k3gx                           1.2  \n",
       "02cipp                           1.8  \n",
       "1ennzl                           0.2  \n",
       "ewckbx                           2.4  \n",
       "dtljkq                           0.6  \n",
       "a2kf1z                           1.4  \n",
       "usnkhx                           6.2  \n",
       "qcjf51                           0.8  \n",
       "7zbya5                           2.3  \n",
       "23gf0e                           1.8  \n",
       "qhz9ye                           0.8  \n",
       "u25507                           0.1  \n",
       "j9tw19                           1.2  \n",
       "5o32oi                           1.6  \n",
       "o63ri2                           1.2  \n",
       "5qfar3                           0.2  \n",
       "2s2b1f                           3.4  \n",
       "nsd00i                           1.8  \n",
       "\n",
       "[124 rows x 3 columns]"
      ]
     },
     "execution_count": 4,
     "metadata": {},
     "output_type": "execute_result"
    }
   ],
   "source": [
    "X[X['oldpeak_eq_st_depression'] != 0][['slope_of_peak_exercise_st_segment', 'resting_ekg_results', 'oldpeak_eq_st_depression']]"
   ]
  },
  {
   "cell_type": "code",
   "execution_count": 5,
   "metadata": {
    "ExecuteTime": {
     "end_time": "2019-10-30T17:13:35.998485Z",
     "start_time": "2019-10-30T17:13:35.884405Z"
    }
   },
   "outputs": [
    {
     "data": {
      "text/html": [
       "<div>\n",
       "<style scoped>\n",
       "    .dataframe tbody tr th:only-of-type {\n",
       "        vertical-align: middle;\n",
       "    }\n",
       "\n",
       "    .dataframe tbody tr th {\n",
       "        vertical-align: top;\n",
       "    }\n",
       "\n",
       "    .dataframe thead th {\n",
       "        text-align: right;\n",
       "    }\n",
       "</style>\n",
       "<table border=\"1\" class=\"dataframe\">\n",
       "  <thead>\n",
       "    <tr style=\"text-align: right;\">\n",
       "      <th></th>\n",
       "      <th>heart_disease_present</th>\n",
       "    </tr>\n",
       "    <tr>\n",
       "      <th>patient_id</th>\n",
       "      <th></th>\n",
       "    </tr>\n",
       "  </thead>\n",
       "  <tbody>\n",
       "    <tr>\n",
       "      <th>0z64un</th>\n",
       "      <td>0</td>\n",
       "    </tr>\n",
       "    <tr>\n",
       "      <th>ryoo3j</th>\n",
       "      <td>0</td>\n",
       "    </tr>\n",
       "    <tr>\n",
       "      <th>yt1s1x</th>\n",
       "      <td>1</td>\n",
       "    </tr>\n",
       "    <tr>\n",
       "      <th>l2xjde</th>\n",
       "      <td>1</td>\n",
       "    </tr>\n",
       "    <tr>\n",
       "      <th>oyt4ek</th>\n",
       "      <td>0</td>\n",
       "    </tr>\n",
       "  </tbody>\n",
       "</table>\n",
       "</div>"
      ],
      "text/plain": [
       "            heart_disease_present\n",
       "patient_id                       \n",
       "0z64un                          0\n",
       "ryoo3j                          0\n",
       "yt1s1x                          1\n",
       "l2xjde                          1\n",
       "oyt4ek                          0"
      ]
     },
     "execution_count": 5,
     "metadata": {},
     "output_type": "execute_result"
    }
   ],
   "source": [
    "y.head()"
   ]
  },
  {
   "cell_type": "code",
   "execution_count": 6,
   "metadata": {
    "ExecuteTime": {
     "end_time": "2019-10-30T17:13:36.032509Z",
     "start_time": "2019-10-30T17:13:36.000486Z"
    }
   },
   "outputs": [
    {
     "data": {
      "text/html": [
       "<div>\n",
       "<style scoped>\n",
       "    .dataframe tbody tr th:only-of-type {\n",
       "        vertical-align: middle;\n",
       "    }\n",
       "\n",
       "    .dataframe tbody tr th {\n",
       "        vertical-align: top;\n",
       "    }\n",
       "\n",
       "    .dataframe thead th {\n",
       "        text-align: right;\n",
       "    }\n",
       "</style>\n",
       "<table border=\"1\" class=\"dataframe\">\n",
       "  <thead>\n",
       "    <tr style=\"text-align: right;\">\n",
       "      <th></th>\n",
       "      <th>slope_of_peak_exercise_st_segment</th>\n",
       "      <th>thal</th>\n",
       "      <th>resting_blood_pressure</th>\n",
       "      <th>chest_pain_type</th>\n",
       "      <th>num_major_vessels</th>\n",
       "      <th>fasting_blood_sugar_gt_120_mg_per_dl</th>\n",
       "      <th>resting_ekg_results</th>\n",
       "      <th>serum_cholesterol_mg_per_dl</th>\n",
       "      <th>oldpeak_eq_st_depression</th>\n",
       "      <th>sex</th>\n",
       "      <th>age</th>\n",
       "      <th>max_heart_rate_achieved</th>\n",
       "      <th>exercise_induced_angina</th>\n",
       "      <th>heart_disease_present</th>\n",
       "    </tr>\n",
       "    <tr>\n",
       "      <th>patient_id</th>\n",
       "      <th></th>\n",
       "      <th></th>\n",
       "      <th></th>\n",
       "      <th></th>\n",
       "      <th></th>\n",
       "      <th></th>\n",
       "      <th></th>\n",
       "      <th></th>\n",
       "      <th></th>\n",
       "      <th></th>\n",
       "      <th></th>\n",
       "      <th></th>\n",
       "      <th></th>\n",
       "      <th></th>\n",
       "    </tr>\n",
       "  </thead>\n",
       "  <tbody>\n",
       "    <tr>\n",
       "      <th>0z64un</th>\n",
       "      <td>1</td>\n",
       "      <td>normal</td>\n",
       "      <td>128</td>\n",
       "      <td>2</td>\n",
       "      <td>0</td>\n",
       "      <td>0</td>\n",
       "      <td>2</td>\n",
       "      <td>308</td>\n",
       "      <td>0.0</td>\n",
       "      <td>1</td>\n",
       "      <td>45</td>\n",
       "      <td>170</td>\n",
       "      <td>0</td>\n",
       "      <td>0</td>\n",
       "    </tr>\n",
       "    <tr>\n",
       "      <th>ryoo3j</th>\n",
       "      <td>2</td>\n",
       "      <td>normal</td>\n",
       "      <td>110</td>\n",
       "      <td>3</td>\n",
       "      <td>0</td>\n",
       "      <td>0</td>\n",
       "      <td>0</td>\n",
       "      <td>214</td>\n",
       "      <td>1.6</td>\n",
       "      <td>0</td>\n",
       "      <td>54</td>\n",
       "      <td>158</td>\n",
       "      <td>0</td>\n",
       "      <td>0</td>\n",
       "    </tr>\n",
       "    <tr>\n",
       "      <th>yt1s1x</th>\n",
       "      <td>1</td>\n",
       "      <td>normal</td>\n",
       "      <td>125</td>\n",
       "      <td>4</td>\n",
       "      <td>3</td>\n",
       "      <td>0</td>\n",
       "      <td>2</td>\n",
       "      <td>304</td>\n",
       "      <td>0.0</td>\n",
       "      <td>1</td>\n",
       "      <td>77</td>\n",
       "      <td>162</td>\n",
       "      <td>1</td>\n",
       "      <td>1</td>\n",
       "    </tr>\n",
       "    <tr>\n",
       "      <th>l2xjde</th>\n",
       "      <td>1</td>\n",
       "      <td>reversible_defect</td>\n",
       "      <td>152</td>\n",
       "      <td>4</td>\n",
       "      <td>0</td>\n",
       "      <td>0</td>\n",
       "      <td>0</td>\n",
       "      <td>223</td>\n",
       "      <td>0.0</td>\n",
       "      <td>1</td>\n",
       "      <td>40</td>\n",
       "      <td>181</td>\n",
       "      <td>0</td>\n",
       "      <td>1</td>\n",
       "    </tr>\n",
       "    <tr>\n",
       "      <th>oyt4ek</th>\n",
       "      <td>3</td>\n",
       "      <td>reversible_defect</td>\n",
       "      <td>178</td>\n",
       "      <td>1</td>\n",
       "      <td>0</td>\n",
       "      <td>0</td>\n",
       "      <td>2</td>\n",
       "      <td>270</td>\n",
       "      <td>4.2</td>\n",
       "      <td>1</td>\n",
       "      <td>59</td>\n",
       "      <td>145</td>\n",
       "      <td>0</td>\n",
       "      <td>0</td>\n",
       "    </tr>\n",
       "  </tbody>\n",
       "</table>\n",
       "</div>"
      ],
      "text/plain": [
       "            slope_of_peak_exercise_st_segment               thal  \\\n",
       "patient_id                                                         \n",
       "0z64un                                      1             normal   \n",
       "ryoo3j                                      2             normal   \n",
       "yt1s1x                                      1             normal   \n",
       "l2xjde                                      1  reversible_defect   \n",
       "oyt4ek                                      3  reversible_defect   \n",
       "\n",
       "            resting_blood_pressure  chest_pain_type  num_major_vessels  \\\n",
       "patient_id                                                               \n",
       "0z64un                         128                2                  0   \n",
       "ryoo3j                         110                3                  0   \n",
       "yt1s1x                         125                4                  3   \n",
       "l2xjde                         152                4                  0   \n",
       "oyt4ek                         178                1                  0   \n",
       "\n",
       "            fasting_blood_sugar_gt_120_mg_per_dl  resting_ekg_results  \\\n",
       "patient_id                                                              \n",
       "0z64un                                         0                    2   \n",
       "ryoo3j                                         0                    0   \n",
       "yt1s1x                                         0                    2   \n",
       "l2xjde                                         0                    0   \n",
       "oyt4ek                                         0                    2   \n",
       "\n",
       "            serum_cholesterol_mg_per_dl  oldpeak_eq_st_depression  sex  age  \\\n",
       "patient_id                                                                    \n",
       "0z64un                              308                       0.0    1   45   \n",
       "ryoo3j                              214                       1.6    0   54   \n",
       "yt1s1x                              304                       0.0    1   77   \n",
       "l2xjde                              223                       0.0    1   40   \n",
       "oyt4ek                              270                       4.2    1   59   \n",
       "\n",
       "            max_heart_rate_achieved  exercise_induced_angina  \\\n",
       "patient_id                                                     \n",
       "0z64un                          170                        0   \n",
       "ryoo3j                          158                        0   \n",
       "yt1s1x                          162                        1   \n",
       "l2xjde                          181                        0   \n",
       "oyt4ek                          145                        0   \n",
       "\n",
       "            heart_disease_present  \n",
       "patient_id                         \n",
       "0z64un                          0  \n",
       "ryoo3j                          0  \n",
       "yt1s1x                          1  \n",
       "l2xjde                          1  \n",
       "oyt4ek                          0  "
      ]
     },
     "execution_count": 6,
     "metadata": {},
     "output_type": "execute_result"
    }
   ],
   "source": [
    "data_all = pd.concat([X, y], axis = 1)\n",
    "data_all.head()"
   ]
  },
  {
   "cell_type": "markdown",
   "metadata": {},
   "source": [
    "### X\n",
    "**slope_of_peak_exercise_st_segment** (category) = {1 : upsloping, 2 : flat, 3 : downsloping}<br>\n",
    "**thal** (category) = normal, fixes_defect, reversible_defect<br>\n",
    "**resting_blood_pressure** (integer)<br>\n",
    "**chest_pain_type** (category) = {1 : typical angina, 2 : atypical angina, 3 : non-anginal pain, 4 : asymptomatic}<br>\n",
    "**num_major_vessels** (integer)<br>\n",
    "**fasting_blood_sugar_gt_120_mg_per_dl** (category) = {0 : < 120mg/dl, 1 : > 120mg/dl}<br>\n",
    "**resting_ekg_results** (category) = {0 : normal, 1 : ST-T wave abnormality, \n",
    "                                      2 : probable or definite left ventricular hypertrophy}<br>\n",
    "**serum_cholestrol_mg_per_dl** (integer)<br>\n",
    "**oldpeak_eq_st_depression** (float) = ST depression induced by exercise relative to rest<br>\n",
    "**sex** (category) : {0 : female, 1 : male}<br>\n",
    "**age** (integer)<br>\n",
    "**max_heart_rate_achieved** (integer)<br>\n",
    "**exercise_induced_angina** (category) = {0 : False, 1 : True}<br>\n",
    "\n",
    "### y\n",
    "**heart_disease_present** (category) = {0 : False, 1 : True}"
   ]
  },
  {
   "cell_type": "code",
   "execution_count": 7,
   "metadata": {
    "ExecuteTime": {
     "end_time": "2019-10-30T17:13:36.203631Z",
     "start_time": "2019-10-30T17:13:36.034510Z"
    }
   },
   "outputs": [],
   "source": [
    "# Preparing data for visualisation\n",
    "data_all['slope_of_peak_exercise_st_segment'] = data_all['slope_of_peak_exercise_st_segment'].apply(lambda x: 'Upsloping (Normal)' if x == 1 else 'Flat' if x == 2 else 'Downsloping')\n",
    "data_all['chest_pain_type'] = data_all['chest_pain_type'].apply(lambda x: 'Typical Angina' if x == 1 else 'Atypical Angina' if x == 2 else 'Non-Anginal Pain' if x == 3 else 'Asymptomatic (No Symptom)')\n",
    "data_all['fasting_blood_sugar_gt_120_mg_per_dl'] = data_all['fasting_blood_sugar_gt_120_mg_per_dl'].apply(lambda x: 'Less than 120mg/dl' if x == 0 else 'More than 120mg/dl')\n",
    "data_all['resting_ekg_results'] = data_all['resting_ekg_results'].apply(lambda x: 'Normal' if x == 0 else 'ST-T Wave Abnormality' if x == 1 else 'Probable or Definite Left Ventricular Hypertrophy')\n",
    "data_all['sex'] = data_all['sex'].apply(lambda x: 'Female' if x == 0 else 'Male')\n",
    "data_all['exercise_induced_angina'] = data_all['exercise_induced_angina'].apply(lambda x: 'Absent' if x == 0 else 'Present')\n",
    "data_all['heart_disease_present'] = data_all['heart_disease_present'].apply(lambda x: 'Absent' if x == 0 else 'Present')"
   ]
  },
  {
   "cell_type": "markdown",
   "metadata": {},
   "source": [
    "## Data Visualisation"
   ]
  },
  {
   "cell_type": "code",
   "execution_count": 8,
   "metadata": {
    "ExecuteTime": {
     "end_time": "2019-10-30T17:13:37.149303Z",
     "start_time": "2019-10-30T17:13:36.210635Z"
    }
   },
   "outputs": [
    {
     "data": {
      "text/plain": [
       "<matplotlib.axes._subplots.AxesSubplot at 0xff20112860>"
      ]
     },
     "execution_count": 8,
     "metadata": {},
     "output_type": "execute_result"
    },
    {
     "data": {
      "image/png": "[encoded data removed]",
      "text/plain": [
       "<Figure size 720x432 with 1 Axes>"
      ]
     },
     "metadata": {},
     "output_type": "display_data"
    }
   ],
   "source": [
    "sns.set_style('whitegrid')\n",
    "plt.figure(figsize = (10, 6))\n",
    "sns.countplot(data = data_all, x = 'slope_of_peak_exercise_st_segment', hue = 'heart_disease_present')"
   ]
  },
  {
   "cell_type": "code",
   "execution_count": 9,
   "metadata": {
    "ExecuteTime": {
     "end_time": "2019-10-30T17:13:37.665669Z",
     "start_time": "2019-10-30T17:13:37.153305Z"
    }
   },
   "outputs": [
    {
     "data": {
      "text/plain": [
       "<matplotlib.axes._subplots.AxesSubplot at 0xff205af278>"
      ]
     },
     "execution_count": 9,
     "metadata": {},
     "output_type": "execute_result"
    },
    {
     "data": {
      "image/png": "[encoded data removed]",
      "text/plain": [
       "<Figure size 720x432 with 1 Axes>"
      ]
     },
     "metadata": {},
     "output_type": "display_data"
    }
   ],
   "source": [
    "plt.figure(figsize = (10, 6))\n",
    "sns.countplot(data = data_all, x = 'thal', hue = 'heart_disease_present', \n",
    "              order = ['normal', 'fixed_defect', 'reversible_defect'])"
   ]
  },
  {
   "cell_type": "code",
   "execution_count": 10,
   "metadata": {
    "ExecuteTime": {
     "end_time": "2019-10-30T17:13:38.616344Z",
     "start_time": "2019-10-30T17:13:37.668672Z"
    }
   },
   "outputs": [
    {
     "data": {
      "text/plain": [
       "<matplotlib.axes._subplots.AxesSubplot at 0xff2012d518>"
      ]
     },
     "execution_count": 10,
     "metadata": {},
     "output_type": "execute_result"
    },
    {
     "data": {
      "image/png": "[encoded data removed]",
      "text/plain": [
       "<Figure size 720x432 with 1 Axes>"
      ]
     },
     "metadata": {},
     "output_type": "display_data"
    }
   ],
   "source": [
    "plt.figure(figsize = (10, 6))\n",
    "sns.kdeplot(data_all[data_all['heart_disease_present'] == 'Absent']['resting_blood_pressure'], \n",
    "            color = 'blue', shade = True)\n",
    "sns.kdeplot(data_all[data_all['heart_disease_present'] == 'Present']['resting_blood_pressure'], \n",
    "            color = 'red', shade = True)"
   ]
  },
  {
   "cell_type": "code",
   "execution_count": 11,
   "metadata": {
    "ExecuteTime": {
     "end_time": "2019-10-30T17:13:39.178745Z",
     "start_time": "2019-10-30T17:13:38.619347Z"
    }
   },
   "outputs": [
    {
     "data": {
      "text/plain": [
       "<matplotlib.axes._subplots.AxesSubplot at 0xff20513978>"
      ]
     },
     "execution_count": 11,
     "metadata": {},
     "output_type": "execute_result"
    },
    {
     "data": {
      "image/png": "[encoded data removed]",
      "text/plain": [
       "<Figure size 720x432 with 1 Axes>"
      ]
     },
     "metadata": {},
     "output_type": "display_data"
    }
   ],
   "source": [
    "plt.figure(figsize = (10, 6))\n",
    "sns.countplot(data = data_all, x = 'chest_pain_type', hue = 'heart_disease_present',\n",
    "             order = ['Typical Angina', 'Atypical Angina', 'Non-Anginal Pain', 'Asymptomatic (No Symptom)'])"
   ]
  },
  {
   "cell_type": "code",
   "execution_count": 12,
   "metadata": {
    "ExecuteTime": {
     "end_time": "2019-10-30T17:13:39.668092Z",
     "start_time": "2019-10-30T17:13:39.186750Z"
    }
   },
   "outputs": [
    {
     "data": {
      "text/plain": [
       "<matplotlib.axes._subplots.AxesSubplot at 0xff2057fb00>"
      ]
     },
     "execution_count": 12,
     "metadata": {},
     "output_type": "execute_result"
    },
    {
     "data": {
      "image/png": "[encoded data removed]",
      "text/plain": [
       "<Figure size 720x432 with 1 Axes>"
      ]
     },
     "metadata": {},
     "output_type": "display_data"
    }
   ],
   "source": [
    "plt.figure(figsize = (10, 6))\n",
    "sns.countplot(data = data_all, x = 'num_major_vessels', hue = 'heart_disease_present')"
   ]
  },
  {
   "cell_type": "code",
   "execution_count": 13,
   "metadata": {
    "ExecuteTime": {
     "end_time": "2019-10-30T17:13:40.083387Z",
     "start_time": "2019-10-30T17:13:39.677099Z"
    }
   },
   "outputs": [
    {
     "data": {
      "text/plain": [
       "<matplotlib.axes._subplots.AxesSubplot at 0xff205feb70>"
      ]
     },
     "execution_count": 13,
     "metadata": {},
     "output_type": "execute_result"
    },
    {
     "data": {
      "image/png": "[encoded data removed]",
      "text/plain": [
       "<Figure size 720x432 with 1 Axes>"
      ]
     },
     "metadata": {},
     "output_type": "display_data"
    }
   ],
   "source": [
    "plt.figure(figsize = (10, 6))\n",
    "sns.countplot(data = data_all, x = 'fasting_blood_sugar_gt_120_mg_per_dl', hue = 'heart_disease_present')"
   ]
  },
  {
   "cell_type": "code",
   "execution_count": 14,
   "metadata": {
    "ExecuteTime": {
     "end_time": "2019-10-30T17:13:40.453651Z",
     "start_time": "2019-10-30T17:13:40.086390Z"
    }
   },
   "outputs": [
    {
     "data": {
      "text/plain": [
       "<matplotlib.legend.Legend at 0xff20676860>"
      ]
     },
     "execution_count": 14,
     "metadata": {},
     "output_type": "execute_result"
    },
    {
     "data": {
      "image/png": "[encoded data removed]",
      "text/plain": [
       "<Figure size 720x432 with 1 Axes>"
      ]
     },
     "metadata": {},
     "output_type": "display_data"
    }
   ],
   "source": [
    "plt.figure(figsize = (10, 6))\n",
    "graph = sns.countplot(data = data_all, x = 'resting_ekg_results', hue = 'heart_disease_present',\n",
    "             order = ['Normal', 'ST-T Wave Abnormality', 'Probable or Definite Left Ventricular Hypertrophy'])\n",
    "graph.legend(loc = 'upper center')"
   ]
  },
  {
   "cell_type": "code",
   "execution_count": 15,
   "metadata": {
    "ExecuteTime": {
     "end_time": "2019-10-30T17:13:41.137135Z",
     "start_time": "2019-10-30T17:13:40.456653Z"
    }
   },
   "outputs": [
    {
     "data": {
      "text/plain": [
       "<matplotlib.axes._subplots.AxesSubplot at 0xff204d7a20>"
      ]
     },
     "execution_count": 15,
     "metadata": {},
     "output_type": "execute_result"
    },
    {
     "data": {
      "image/png": "[encoded data removed]",
      "text/plain": [
       "<Figure size 720x432 with 1 Axes>"
      ]
     },
     "metadata": {},
     "output_type": "display_data"
    }
   ],
   "source": [
    "plt.figure(figsize = (10, 6))\n",
    "sns.kdeplot(data_all[data_all['heart_disease_present'] == 'Absent']['serum_cholesterol_mg_per_dl'], \n",
    "            color = 'blue', shade = True)\n",
    "sns.kdeplot(data_all[data_all['heart_disease_present'] == 'Present']['serum_cholesterol_mg_per_dl'], \n",
    "            color = 'red', shade = True)"
   ]
  },
  {
   "cell_type": "code",
   "execution_count": 16,
   "metadata": {
    "ExecuteTime": {
     "end_time": "2019-10-30T17:13:41.740216Z",
     "start_time": "2019-10-30T17:13:41.140138Z"
    }
   },
   "outputs": [
    {
     "data": {
      "text/plain": [
       "<matplotlib.axes._subplots.AxesSubplot at 0xff208f8588>"
      ]
     },
     "execution_count": 16,
     "metadata": {},
     "output_type": "execute_result"
    },
    {
     "data": {
      "image/png": "[encoded data removed]",
      "text/plain": [
       "<Figure size 720x432 with 1 Axes>"
      ]
     },
     "metadata": {},
     "output_type": "display_data"
    }
   ],
   "source": [
    "plt.figure(figsize = (10, 6))\n",
    "sns.kdeplot(data_all[data_all['heart_disease_present'] == 'Absent']['oldpeak_eq_st_depression'], \n",
    "            color = 'blue', shade = True)\n",
    "sns.kdeplot(data_all[data_all['heart_disease_present'] == 'Present']['oldpeak_eq_st_depression'], \n",
    "            color = 'red', shade = True)"
   ]
  },
  {
   "cell_type": "code",
   "execution_count": 17,
   "metadata": {
    "ExecuteTime": {
     "end_time": "2019-10-30T17:13:42.200248Z",
     "start_time": "2019-10-30T17:13:41.740216Z"
    }
   },
   "outputs": [
    {
     "data": {
      "text/plain": [
       "<matplotlib.axes._subplots.AxesSubplot at 0xff207dbd30>"
      ]
     },
     "execution_count": 17,
     "metadata": {},
     "output_type": "execute_result"
    },
    {
     "data": {
      "image/png": "[encoded data removed]",
      "text/plain": [
       "<Figure size 720x432 with 1 Axes>"
      ]
     },
     "metadata": {},
     "output_type": "display_data"
    }
   ],
   "source": [
    "plt.figure(figsize = (10, 6))\n",
    "sns.countplot(data = data_all, x = 'sex', hue = 'heart_disease_present')"
   ]
  },
  {
   "cell_type": "code",
   "execution_count": 18,
   "metadata": {
    "ExecuteTime": {
     "end_time": "2019-10-30T17:13:42.876296Z",
     "start_time": "2019-10-30T17:13:42.200248Z"
    }
   },
   "outputs": [
    {
     "data": {
      "text/plain": [
       "<matplotlib.axes._subplots.AxesSubplot at 0xff20916ac8>"
      ]
     },
     "execution_count": 18,
     "metadata": {},
     "output_type": "execute_result"
    },
    {
     "data": {
      "image/png": "[encoded data removed]",
      "text/plain": [
       "<Figure size 720x432 with 1 Axes>"
      ]
     },
     "metadata": {},
     "output_type": "display_data"
    }
   ],
   "source": [
    "plt.figure(figsize = (10, 6))\n",
    "sns.kdeplot(data_all[data_all['heart_disease_present'] == 'Absent']['age'], color = 'blue', shade = True)\n",
    "sns.kdeplot(data_all[data_all['heart_disease_present'] == 'Present']['age'], color = 'red', shade = True)"
   ]
  },
  {
   "cell_type": "code",
   "execution_count": 19,
   "metadata": {
    "ExecuteTime": {
     "end_time": "2019-10-30T17:13:43.654636Z",
     "start_time": "2019-10-30T17:13:42.880296Z"
    }
   },
   "outputs": [
    {
     "data": {
      "text/plain": [
       "<matplotlib.axes._subplots.AxesSubplot at 0xff208b4a58>"
      ]
     },
     "execution_count": 19,
     "metadata": {},
     "output_type": "execute_result"
    },
    {
     "data": {
      "image/png": "[encoded data removed]",
      "text/plain": [
       "<Figure size 720x432 with 1 Axes>"
      ]
     },
     "metadata": {},
     "output_type": "display_data"
    }
   ],
   "source": [
    "plt.figure(figsize = (10, 6))\n",
    "sns.kdeplot(data_all[data_all['heart_disease_present'] == 'Absent']['max_heart_rate_achieved'], \n",
    "            color = 'blue', shade = True)\n",
    "sns.kdeplot(data_all[data_all['heart_disease_present'] == 'Present']['max_heart_rate_achieved'], \n",
    "            color = 'red', shade = True)"
   ]
  },
  {
   "cell_type": "code",
   "execution_count": 20,
   "metadata": {
    "ExecuteTime": {
     "end_time": "2019-10-30T17:13:44.074665Z",
     "start_time": "2019-10-30T17:13:43.658635Z"
    }
   },
   "outputs": [
    {
     "data": {
      "text/plain": [
       "<matplotlib.axes._subplots.AxesSubplot at 0xff208bde48>"
      ]
     },
     "execution_count": 20,
     "metadata": {},
     "output_type": "execute_result"
    },
    {
     "data": {
      "image/png": "[encoded data removed]",
      "text/plain": [
       "<Figure size 720x432 with 1 Axes>"
      ]
     },
     "metadata": {},
     "output_type": "display_data"
    }
   ],
   "source": [
    "plt.figure(figsize = (10, 6))\n",
    "sns.countplot(data = data_all, x = 'exercise_induced_angina', hue = 'heart_disease_present')"
   ]
  },
  {
   "cell_type": "markdown",
   "metadata": {},
   "source": [
    "## Machine Learning (Preparation)"
   ]
  },
  {
   "cell_type": "code",
   "execution_count": 21,
   "metadata": {
    "ExecuteTime": {
     "end_time": "2019-10-30T17:13:44.878719Z",
     "start_time": "2019-10-30T17:13:44.082668Z"
    }
   },
   "outputs": [],
   "source": [
    "from sklearn.preprocessing import StandardScaler\n",
    "from sklearn.model_selection import train_test_split, GridSearchCV\n",
    "from sklearn.linear_model import LogisticRegression\n",
    "from sklearn.tree import DecisionTreeClassifier\n",
    "from sklearn.ensemble import RandomForestClassifier\n",
    "from sklearn.neighbors import KNeighborsClassifier\n",
    "from sklearn.metrics import log_loss"
   ]
  },
  {
   "cell_type": "code",
   "execution_count": 22,
   "metadata": {
    "ExecuteTime": {
     "end_time": "2019-10-30T17:13:44.938724Z",
     "start_time": "2019-10-30T17:13:44.878719Z"
    }
   },
   "outputs": [
    {
     "data": {
      "text/html": [
       "<div>\n",
       "<style scoped>\n",
       "    .dataframe tbody tr th:only-of-type {\n",
       "        vertical-align: middle;\n",
       "    }\n",
       "\n",
       "    .dataframe tbody tr th {\n",
       "        vertical-align: top;\n",
       "    }\n",
       "\n",
       "    .dataframe thead th {\n",
       "        text-align: right;\n",
       "    }\n",
       "</style>\n",
       "<table border=\"1\" class=\"dataframe\">\n",
       "  <thead>\n",
       "    <tr style=\"text-align: right;\">\n",
       "      <th></th>\n",
       "      <th>resting_blood_pressure</th>\n",
       "      <th>num_major_vessels</th>\n",
       "      <th>fasting_blood_sugar_gt_120_mg_per_dl</th>\n",
       "      <th>serum_cholesterol_mg_per_dl</th>\n",
       "      <th>oldpeak_eq_st_depression</th>\n",
       "      <th>age</th>\n",
       "      <th>max_heart_rate_achieved</th>\n",
       "      <th>exercise_induced_angina</th>\n",
       "      <th>slope_of_peak_exercise_st_segment_2</th>\n",
       "      <th>slope_of_peak_exercise_st_segment_3</th>\n",
       "      <th>thal_normal</th>\n",
       "      <th>thal_reversible_defect</th>\n",
       "      <th>chest_pain_type_2</th>\n",
       "      <th>chest_pain_type_3</th>\n",
       "      <th>chest_pain_type_4</th>\n",
       "      <th>resting_ekg_results_1</th>\n",
       "      <th>resting_ekg_results_2</th>\n",
       "      <th>sex_1</th>\n",
       "    </tr>\n",
       "    <tr>\n",
       "      <th>patient_id</th>\n",
       "      <th></th>\n",
       "      <th></th>\n",
       "      <th></th>\n",
       "      <th></th>\n",
       "      <th></th>\n",
       "      <th></th>\n",
       "      <th></th>\n",
       "      <th></th>\n",
       "      <th></th>\n",
       "      <th></th>\n",
       "      <th></th>\n",
       "      <th></th>\n",
       "      <th></th>\n",
       "      <th></th>\n",
       "      <th></th>\n",
       "      <th></th>\n",
       "      <th></th>\n",
       "      <th></th>\n",
       "    </tr>\n",
       "  </thead>\n",
       "  <tbody>\n",
       "    <tr>\n",
       "      <th>0z64un</th>\n",
       "      <td>128</td>\n",
       "      <td>0</td>\n",
       "      <td>0</td>\n",
       "      <td>308</td>\n",
       "      <td>0.0</td>\n",
       "      <td>45</td>\n",
       "      <td>170</td>\n",
       "      <td>0</td>\n",
       "      <td>0</td>\n",
       "      <td>0</td>\n",
       "      <td>1</td>\n",
       "      <td>0</td>\n",
       "      <td>1</td>\n",
       "      <td>0</td>\n",
       "      <td>0</td>\n",
       "      <td>0</td>\n",
       "      <td>1</td>\n",
       "      <td>1</td>\n",
       "    </tr>\n",
       "    <tr>\n",
       "      <th>ryoo3j</th>\n",
       "      <td>110</td>\n",
       "      <td>0</td>\n",
       "      <td>0</td>\n",
       "      <td>214</td>\n",
       "      <td>1.6</td>\n",
       "      <td>54</td>\n",
       "      <td>158</td>\n",
       "      <td>0</td>\n",
       "      <td>1</td>\n",
       "      <td>0</td>\n",
       "      <td>1</td>\n",
       "      <td>0</td>\n",
       "      <td>0</td>\n",
       "      <td>1</td>\n",
       "      <td>0</td>\n",
       "      <td>0</td>\n",
       "      <td>0</td>\n",
       "      <td>0</td>\n",
       "    </tr>\n",
       "    <tr>\n",
       "      <th>yt1s1x</th>\n",
       "      <td>125</td>\n",
       "      <td>3</td>\n",
       "      <td>0</td>\n",
       "      <td>304</td>\n",
       "      <td>0.0</td>\n",
       "      <td>77</td>\n",
       "      <td>162</td>\n",
       "      <td>1</td>\n",
       "      <td>0</td>\n",
       "      <td>0</td>\n",
       "      <td>1</td>\n",
       "      <td>0</td>\n",
       "      <td>0</td>\n",
       "      <td>0</td>\n",
       "      <td>1</td>\n",
       "      <td>0</td>\n",
       "      <td>1</td>\n",
       "      <td>1</td>\n",
       "    </tr>\n",
       "    <tr>\n",
       "      <th>l2xjde</th>\n",
       "      <td>152</td>\n",
       "      <td>0</td>\n",
       "      <td>0</td>\n",
       "      <td>223</td>\n",
       "      <td>0.0</td>\n",
       "      <td>40</td>\n",
       "      <td>181</td>\n",
       "      <td>0</td>\n",
       "      <td>0</td>\n",
       "      <td>0</td>\n",
       "      <td>0</td>\n",
       "      <td>1</td>\n",
       "      <td>0</td>\n",
       "      <td>0</td>\n",
       "      <td>1</td>\n",
       "      <td>0</td>\n",
       "      <td>0</td>\n",
       "      <td>1</td>\n",
       "    </tr>\n",
       "    <tr>\n",
       "      <th>oyt4ek</th>\n",
       "      <td>178</td>\n",
       "      <td>0</td>\n",
       "      <td>0</td>\n",
       "      <td>270</td>\n",
       "      <td>4.2</td>\n",
       "      <td>59</td>\n",
       "      <td>145</td>\n",
       "      <td>0</td>\n",
       "      <td>0</td>\n",
       "      <td>1</td>\n",
       "      <td>0</td>\n",
       "      <td>1</td>\n",
       "      <td>0</td>\n",
       "      <td>0</td>\n",
       "      <td>0</td>\n",
       "      <td>0</td>\n",
       "      <td>1</td>\n",
       "      <td>1</td>\n",
       "    </tr>\n",
       "  </tbody>\n",
       "</table>\n",
       "</div>"
      ],
      "text/plain": [
       "            resting_blood_pressure  num_major_vessels  \\\n",
       "patient_id                                              \n",
       "0z64un                         128                  0   \n",
       "ryoo3j                         110                  0   \n",
       "yt1s1x                         125                  3   \n",
       "l2xjde                         152                  0   \n",
       "oyt4ek                         178                  0   \n",
       "\n",
       "            fasting_blood_sugar_gt_120_mg_per_dl  serum_cholesterol_mg_per_dl  \\\n",
       "patient_id                                                                      \n",
       "0z64un                                         0                          308   \n",
       "ryoo3j                                         0                          214   \n",
       "yt1s1x                                         0                          304   \n",
       "l2xjde                                         0                          223   \n",
       "oyt4ek                                         0                          270   \n",
       "\n",
       "            oldpeak_eq_st_depression  age  max_heart_rate_achieved  \\\n",
       "patient_id                                                           \n",
       "0z64un                           0.0   45                      170   \n",
       "ryoo3j                           1.6   54                      158   \n",
       "yt1s1x                           0.0   77                      162   \n",
       "l2xjde                           0.0   40                      181   \n",
       "oyt4ek                           4.2   59                      145   \n",
       "\n",
       "            exercise_induced_angina  slope_of_peak_exercise_st_segment_2  \\\n",
       "patient_id                                                                 \n",
       "0z64un                            0                                    0   \n",
       "ryoo3j                            0                                    1   \n",
       "yt1s1x                            1                                    0   \n",
       "l2xjde                            0                                    0   \n",
       "oyt4ek                            0                                    0   \n",
       "\n",
       "            slope_of_peak_exercise_st_segment_3  thal_normal  \\\n",
       "patient_id                                                     \n",
       "0z64un                                        0            1   \n",
       "ryoo3j                                        0            1   \n",
       "yt1s1x                                        0            1   \n",
       "l2xjde                                        0            0   \n",
       "oyt4ek                                        1            0   \n",
       "\n",
       "            thal_reversible_defect  chest_pain_type_2  chest_pain_type_3  \\\n",
       "patient_id                                                                 \n",
       "0z64un                           0                  1                  0   \n",
       "ryoo3j                           0                  0                  1   \n",
       "yt1s1x                           0                  0                  0   \n",
       "l2xjde                           1                  0                  0   \n",
       "oyt4ek                           1                  0                  0   \n",
       "\n",
       "            chest_pain_type_4  resting_ekg_results_1  resting_ekg_results_2  \\\n",
       "patient_id                                                                    \n",
       "0z64un                      0                      0                      1   \n",
       "ryoo3j                      0                      0                      0   \n",
       "yt1s1x                      1                      0                      1   \n",
       "l2xjde                      1                      0                      0   \n",
       "oyt4ek                      0                      0                      1   \n",
       "\n",
       "            sex_1  \n",
       "patient_id         \n",
       "0z64un          1  \n",
       "ryoo3j          0  \n",
       "yt1s1x          1  \n",
       "l2xjde          1  \n",
       "oyt4ek          1  "
      ]
     },
     "execution_count": 22,
     "metadata": {},
     "output_type": "execute_result"
    }
   ],
   "source": [
    "# Make dummies for all categorical data\n",
    "X = pd.read_csv('../train_values.csv', index_col = 'patient_id')\n",
    "X = pd.get_dummies(data = X, columns = ['slope_of_peak_exercise_st_segment', 'thal', 'chest_pain_type',\n",
    "                                        'resting_ekg_results', 'sex'], drop_first = True)\n",
    "X.head()"
   ]
  },
  {
   "cell_type": "code",
   "execution_count": 23,
   "metadata": {
    "ExecuteTime": {
     "end_time": "2019-10-30T17:13:44.990727Z",
     "start_time": "2019-10-30T17:13:44.946725Z"
    }
   },
   "outputs": [],
   "source": [
    "# Scaling data\n",
    "scaler = StandardScaler()"
   ]
  },
  {
   "cell_type": "code",
   "execution_count": 24,
   "metadata": {
    "ExecuteTime": {
     "end_time": "2019-10-30T17:13:45.106738Z",
     "start_time": "2019-10-30T17:13:44.994730Z"
    }
   },
   "outputs": [
    {
     "data": {
      "text/plain": [
       "StandardScaler(copy=True, with_mean=True, with_std=True)"
      ]
     },
     "execution_count": 24,
     "metadata": {},
     "output_type": "execute_result"
    }
   ],
   "source": [
    "scaler.fit(X)"
   ]
  },
  {
   "cell_type": "code",
   "execution_count": 25,
   "metadata": {
    "ExecuteTime": {
     "end_time": "2019-10-30T17:13:45.268838Z",
     "start_time": "2019-10-30T17:13:45.110736Z"
    }
   },
   "outputs": [
    {
     "data": {
      "text/html": [
       "<div>\n",
       "<style scoped>\n",
       "    .dataframe tbody tr th:only-of-type {\n",
       "        vertical-align: middle;\n",
       "    }\n",
       "\n",
       "    .dataframe tbody tr th {\n",
       "        vertical-align: top;\n",
       "    }\n",
       "\n",
       "    .dataframe thead th {\n",
       "        text-align: right;\n",
       "    }\n",
       "</style>\n",
       "<table border=\"1\" class=\"dataframe\">\n",
       "  <thead>\n",
       "    <tr style=\"text-align: right;\">\n",
       "      <th></th>\n",
       "      <th>resting_blood_pressure</th>\n",
       "      <th>num_major_vessels</th>\n",
       "      <th>fasting_blood_sugar_gt_120_mg_per_dl</th>\n",
       "      <th>serum_cholesterol_mg_per_dl</th>\n",
       "      <th>oldpeak_eq_st_depression</th>\n",
       "      <th>age</th>\n",
       "      <th>max_heart_rate_achieved</th>\n",
       "      <th>exercise_induced_angina</th>\n",
       "      <th>slope_of_peak_exercise_st_segment_2</th>\n",
       "      <th>slope_of_peak_exercise_st_segment_3</th>\n",
       "      <th>thal_normal</th>\n",
       "      <th>thal_reversible_defect</th>\n",
       "      <th>chest_pain_type_2</th>\n",
       "      <th>chest_pain_type_3</th>\n",
       "      <th>chest_pain_type_4</th>\n",
       "      <th>resting_ekg_results_1</th>\n",
       "      <th>resting_ekg_results_2</th>\n",
       "      <th>sex_1</th>\n",
       "    </tr>\n",
       "    <tr>\n",
       "      <th>patient_id</th>\n",
       "      <th></th>\n",
       "      <th></th>\n",
       "      <th></th>\n",
       "      <th></th>\n",
       "      <th></th>\n",
       "      <th></th>\n",
       "      <th></th>\n",
       "      <th></th>\n",
       "      <th></th>\n",
       "      <th></th>\n",
       "      <th></th>\n",
       "      <th></th>\n",
       "      <th></th>\n",
       "      <th></th>\n",
       "      <th></th>\n",
       "      <th></th>\n",
       "      <th></th>\n",
       "      <th></th>\n",
       "    </tr>\n",
       "  </thead>\n",
       "  <tbody>\n",
       "    <tr>\n",
       "      <th>0z64un</th>\n",
       "      <td>-0.195195</td>\n",
       "      <td>-0.718403</td>\n",
       "      <td>-0.438238</td>\n",
       "      <td>1.118269</td>\n",
       "      <td>-0.903207</td>\n",
       "      <td>-1.053964</td>\n",
       "      <td>0.932485</td>\n",
       "      <td>-0.680746</td>\n",
       "      <td>-0.845154</td>\n",
       "      <td>-0.267261</td>\n",
       "      <td>0.914732</td>\n",
       "      <td>-0.835532</td>\n",
       "      <td>2.329929</td>\n",
       "      <td>-0.680746</td>\n",
       "      <td>-0.914732</td>\n",
       "      <td>-0.074744</td>\n",
       "      <td>0.956501</td>\n",
       "      <td>0.672022</td>\n",
       "    </tr>\n",
       "    <tr>\n",
       "      <th>ryoo3j</th>\n",
       "      <td>-1.256320</td>\n",
       "      <td>-0.718403</td>\n",
       "      <td>-0.438238</td>\n",
       "      <td>-0.669778</td>\n",
       "      <td>0.527616</td>\n",
       "      <td>-0.087134</td>\n",
       "      <td>0.387084</td>\n",
       "      <td>-0.680746</td>\n",
       "      <td>1.183216</td>\n",
       "      <td>-0.267261</td>\n",
       "      <td>0.914732</td>\n",
       "      <td>-0.835532</td>\n",
       "      <td>-0.429198</td>\n",
       "      <td>1.468977</td>\n",
       "      <td>-0.914732</td>\n",
       "      <td>-0.074744</td>\n",
       "      <td>-1.045478</td>\n",
       "      <td>-1.488048</td>\n",
       "    </tr>\n",
       "    <tr>\n",
       "      <th>yt1s1x</th>\n",
       "      <td>-0.372049</td>\n",
       "      <td>2.385097</td>\n",
       "      <td>-0.438238</td>\n",
       "      <td>1.042182</td>\n",
       "      <td>-0.903207</td>\n",
       "      <td>2.383654</td>\n",
       "      <td>0.568884</td>\n",
       "      <td>1.468977</td>\n",
       "      <td>-0.845154</td>\n",
       "      <td>-0.267261</td>\n",
       "      <td>0.914732</td>\n",
       "      <td>-0.835532</td>\n",
       "      <td>-0.429198</td>\n",
       "      <td>-0.680746</td>\n",
       "      <td>1.093216</td>\n",
       "      <td>-0.074744</td>\n",
       "      <td>0.956501</td>\n",
       "      <td>0.672022</td>\n",
       "    </tr>\n",
       "    <tr>\n",
       "      <th>l2xjde</th>\n",
       "      <td>1.219639</td>\n",
       "      <td>-0.718403</td>\n",
       "      <td>-0.438238</td>\n",
       "      <td>-0.498582</td>\n",
       "      <td>-0.903207</td>\n",
       "      <td>-1.591092</td>\n",
       "      <td>1.432436</td>\n",
       "      <td>-0.680746</td>\n",
       "      <td>-0.845154</td>\n",
       "      <td>-0.267261</td>\n",
       "      <td>-1.093216</td>\n",
       "      <td>1.196843</td>\n",
       "      <td>-0.429198</td>\n",
       "      <td>-0.680746</td>\n",
       "      <td>1.093216</td>\n",
       "      <td>-0.074744</td>\n",
       "      <td>-1.045478</td>\n",
       "      <td>0.672022</td>\n",
       "    </tr>\n",
       "    <tr>\n",
       "      <th>oyt4ek</th>\n",
       "      <td>2.752375</td>\n",
       "      <td>-0.718403</td>\n",
       "      <td>-0.438238</td>\n",
       "      <td>0.395442</td>\n",
       "      <td>2.852703</td>\n",
       "      <td>0.449994</td>\n",
       "      <td>-0.203768</td>\n",
       "      <td>-0.680746</td>\n",
       "      <td>-0.845154</td>\n",
       "      <td>3.741657</td>\n",
       "      <td>-1.093216</td>\n",
       "      <td>1.196843</td>\n",
       "      <td>-0.429198</td>\n",
       "      <td>-0.680746</td>\n",
       "      <td>-0.914732</td>\n",
       "      <td>-0.074744</td>\n",
       "      <td>0.956501</td>\n",
       "      <td>0.672022</td>\n",
       "    </tr>\n",
       "  </tbody>\n",
       "</table>\n",
       "</div>"
      ],
      "text/plain": [
       "            resting_blood_pressure  num_major_vessels  \\\n",
       "patient_id                                              \n",
       "0z64un                   -0.195195          -0.718403   \n",
       "ryoo3j                   -1.256320          -0.718403   \n",
       "yt1s1x                   -0.372049           2.385097   \n",
       "l2xjde                    1.219639          -0.718403   \n",
       "oyt4ek                    2.752375          -0.718403   \n",
       "\n",
       "            fasting_blood_sugar_gt_120_mg_per_dl  serum_cholesterol_mg_per_dl  \\\n",
       "patient_id                                                                      \n",
       "0z64un                                 -0.438238                     1.118269   \n",
       "ryoo3j                                 -0.438238                    -0.669778   \n",
       "yt1s1x                                 -0.438238                     1.042182   \n",
       "l2xjde                                 -0.438238                    -0.498582   \n",
       "oyt4ek                                 -0.438238                     0.395442   \n",
       "\n",
       "            oldpeak_eq_st_depression       age  max_heart_rate_achieved  \\\n",
       "patient_id                                                                \n",
       "0z64un                     -0.903207 -1.053964                 0.932485   \n",
       "ryoo3j                      0.527616 -0.087134                 0.387084   \n",
       "yt1s1x                     -0.903207  2.383654                 0.568884   \n",
       "l2xjde                     -0.903207 -1.591092                 1.432436   \n",
       "oyt4ek                      2.852703  0.449994                -0.203768   \n",
       "\n",
       "            exercise_induced_angina  slope_of_peak_exercise_st_segment_2  \\\n",
       "patient_id                                                                 \n",
       "0z64un                    -0.680746                            -0.845154   \n",
       "ryoo3j                    -0.680746                             1.183216   \n",
       "yt1s1x                     1.468977                            -0.845154   \n",
       "l2xjde                    -0.680746                            -0.845154   \n",
       "oyt4ek                    -0.680746                            -0.845154   \n",
       "\n",
       "            slope_of_peak_exercise_st_segment_3  thal_normal  \\\n",
       "patient_id                                                     \n",
       "0z64un                                -0.267261     0.914732   \n",
       "ryoo3j                                -0.267261     0.914732   \n",
       "yt1s1x                                -0.267261     0.914732   \n",
       "l2xjde                                -0.267261    -1.093216   \n",
       "oyt4ek                                 3.741657    -1.093216   \n",
       "\n",
       "            thal_reversible_defect  chest_pain_type_2  chest_pain_type_3  \\\n",
       "patient_id                                                                 \n",
       "0z64un                   -0.835532           2.329929          -0.680746   \n",
       "ryoo3j                   -0.835532          -0.429198           1.468977   \n",
       "yt1s1x                   -0.835532          -0.429198          -0.680746   \n",
       "l2xjde                    1.196843          -0.429198          -0.680746   \n",
       "oyt4ek                    1.196843          -0.429198          -0.680746   \n",
       "\n",
       "            chest_pain_type_4  resting_ekg_results_1  resting_ekg_results_2  \\\n",
       "patient_id                                                                    \n",
       "0z64un              -0.914732              -0.074744               0.956501   \n",
       "ryoo3j              -0.914732              -0.074744              -1.045478   \n",
       "yt1s1x               1.093216              -0.074744               0.956501   \n",
       "l2xjde               1.093216              -0.074744              -1.045478   \n",
       "oyt4ek              -0.914732              -0.074744               0.956501   \n",
       "\n",
       "               sex_1  \n",
       "patient_id            \n",
       "0z64un      0.672022  \n",
       "ryoo3j     -1.488048  \n",
       "yt1s1x      0.672022  \n",
       "l2xjde      0.672022  \n",
       "oyt4ek      0.672022  "
      ]
     },
     "execution_count": 25,
     "metadata": {},
     "output_type": "execute_result"
    }
   ],
   "source": [
    "X_scale = pd.DataFrame(scaler.transform(X), index = X.index, columns = X.columns)\n",
    "X_scale.head()"
   ]
  },
  {
   "cell_type": "code",
   "execution_count": 26,
   "metadata": {
    "ExecuteTime": {
     "end_time": "2019-10-30T17:13:45.352843Z",
     "start_time": "2019-10-30T17:13:45.268838Z"
    }
   },
   "outputs": [],
   "source": [
    "# Splitting data\n",
    "X_train, X_test, y_train, y_test = train_test_split(X, y, test_size = 0.3)\n",
    "X_scale_train, X_scale_test, y_scale_train, y_scale_test = train_test_split(X_scale, y, test_size = 0.3)"
   ]
  },
  {
   "cell_type": "markdown",
   "metadata": {},
   "source": [
    "## Logistic Regression"
   ]
  },
  {
   "cell_type": "code",
   "execution_count": 27,
   "metadata": {
    "ExecuteTime": {
     "end_time": "2019-10-30T17:13:45.452852Z",
     "start_time": "2019-10-30T17:13:45.352843Z"
    }
   },
   "outputs": [
    {
     "name": "stdout",
     "output_type": "stream",
     "text": [
      "Log loss for train data: 0.26407059714254927\n",
      "Log loss for test data: 0.6495379234806294\n"
     ]
    },
    {
     "name": "stderr",
     "output_type": "stream",
     "text": [
      "C:\\ularFamily\\Anaconda3\\lib\\site-packages\\sklearn\\linear_model\\logistic.py:432: FutureWarning: Default solver will be changed to 'lbfgs' in 0.22. Specify a solver to silence this warning.\n",
      "  FutureWarning)\n",
      "C:\\ularFamily\\Anaconda3\\lib\\site-packages\\sklearn\\utils\\validation.py:724: DataConversionWarning: A column-vector y was passed when a 1d array was expected. Please change the shape of y to (n_samples, ), for example using ravel().\n",
      "  y = column_or_1d(y, warn=True)\n"
     ]
    }
   ],
   "source": [
    "logistic = LogisticRegression()\n",
    "logistic.fit(X_train, y_train)\n",
    "print('Log loss for train data: {}'.format(log_loss(y_train, logistic.predict_proba(X_train))))\n",
    "print('Log loss for test data: {}'.format(log_loss(y_test, logistic.predict_proba(X_test))))"
   ]
  },
  {
   "cell_type": "markdown",
   "metadata": {},
   "source": [
    "## Decision Tree"
   ]
  },
  {
   "cell_type": "code",
   "execution_count": 28,
   "metadata": {
    "ExecuteTime": {
     "end_time": "2019-10-30T17:13:45.523173Z",
     "start_time": "2019-10-30T17:13:45.452852Z"
    }
   },
   "outputs": [
    {
     "name": "stdout",
     "output_type": "stream",
     "text": [
      "Log loss for train data: 9.992007221626413e-16\n",
      "Log loss for test data: 10.873318494694104\n"
     ]
    }
   ],
   "source": [
    "tree = DecisionTreeClassifier()\n",
    "tree.fit(X_train, y_train)\n",
    "print('Log loss for train data: {}'.format(log_loss(y_train, tree.predict_proba(X_train))))\n",
    "print('Log loss for test data: {}'.format(log_loss(y_test, tree.predict_proba(X_test))))"
   ]
  },
  {
   "cell_type": "markdown",
   "metadata": {},
   "source": [
    "## Random Forest"
   ]
  },
  {
   "cell_type": "code",
   "execution_count": 29,
   "metadata": {
    "ExecuteTime": {
     "end_time": "2019-10-30T17:13:46.531243Z",
     "start_time": "2019-10-30T17:13:45.523173Z"
    }
   },
   "outputs": [
    {
     "name": "stdout",
     "output_type": "stream",
     "text": [
      "Log loss for train data: 0.11480326026581876\n",
      "Log loss for test data: 0.36973446973515706\n"
     ]
    },
    {
     "name": "stderr",
     "output_type": "stream",
     "text": [
      "C:\\ularFamily\\Anaconda3\\lib\\site-packages\\sklearn\\ensemble\\forest.py:245: FutureWarning: The default value of n_estimators will change from 10 in version 0.20 to 100 in 0.22.\n",
      "  \"10 in version 0.20 to 100 in 0.22.\", FutureWarning)\n",
      "C:\\ularFamily\\Anaconda3\\lib\\site-packages\\ipykernel_launcher.py:6: DataConversionWarning: A column-vector y was passed when a 1d array was expected. Please change the shape of y to (n_samples,), for example using ravel().\n",
      "  \n"
     ]
    },
    {
     "data": {
      "text/plain": [
       "Text(0.5, 0, 'Mean Impurity Reduction')"
      ]
     },
     "execution_count": 29,
     "metadata": {},
     "output_type": "execute_result"
    },
    {
     "data": {
      "image/png": "[encoded data removed]",
      "text/plain": [
       "<Figure size 576x576 with 1 Axes>"
      ]
     },
     "metadata": {},
     "output_type": "display_data"
    }
   ],
   "source": [
    "X = pd.read_csv('../train_values.csv', index_col = 'patient_id')\n",
    "X = pd.get_dummies(data = X, columns = ['slope_of_peak_exercise_st_segment', 'thal', 'chest_pain_type',\n",
    "                                        'resting_ekg_results', 'sex'], drop_first = True)\n",
    "X_train, X_test, y_train, y_test = train_test_split(X, y, test_size = 0.3)\n",
    "rfc = RandomForestClassifier()\n",
    "rfc.fit(X_train, y_train)\n",
    "print('Log loss for train data: {}'.format(log_loss(y_train, rfc.predict_proba(X_train))))\n",
    "print('Log loss for test data: {}'.format(log_loss(y_test, rfc.predict_proba(X_test))))\n",
    "data_feature = pd.Series(rfc.feature_importances_, X_train.columns).sort_values()\n",
    "data_feature.plot(kind = 'barh', title = 'Feature Importances', width = 0.8, figsize = (8, 8))\n",
    "plt.xlabel('Mean Impurity Reduction')"
   ]
  },
  {
   "cell_type": "markdown",
   "metadata": {},
   "source": [
    "'slope_of_peak_exercise_st_segment_3'\n",
    "\n",
    "'resting_ekg_results_1'\n",
    "\n",
    "'fasting_blood_sugar_gt_120_mg_per_dl'"
   ]
  },
  {
   "cell_type": "code",
   "execution_count": 30,
   "metadata": {
    "ExecuteTime": {
     "end_time": "2019-10-30T17:13:47.320442Z",
     "start_time": "2019-10-30T17:13:46.531243Z"
    }
   },
   "outputs": [
    {
     "name": "stderr",
     "output_type": "stream",
     "text": [
      "C:\\ularFamily\\Anaconda3\\lib\\site-packages\\sklearn\\ensemble\\forest.py:245: FutureWarning: The default value of n_estimators will change from 10 in version 0.20 to 100 in 0.22.\n",
      "  \"10 in version 0.20 to 100 in 0.22.\", FutureWarning)\n",
      "C:\\ularFamily\\Anaconda3\\lib\\site-packages\\ipykernel_launcher.py:12: DataConversionWarning: A column-vector y was passed when a 1d array was expected. Please change the shape of y to (n_samples,), for example using ravel().\n",
      "  if sys.path[0] == '':\n"
     ]
    },
    {
     "name": "stdout",
     "output_type": "stream",
     "text": [
      "Log loss for train data: 0.13463228949729766\n",
      "Log loss for test data: 1.079856840351557\n"
     ]
    },
    {
     "data": {
      "text/plain": [
       "Text(0.5, 0, 'Mean Impurity Reduction')"
      ]
     },
     "execution_count": 30,
     "metadata": {},
     "output_type": "execute_result"
    },
    {
     "data": {
      "image/png": "[encoded data removed]",
      "text/plain": [
       "<Figure size 576x576 with 1 Axes>"
      ]
     },
     "metadata": {},
     "output_type": "display_data"
    }
   ],
   "source": [
    "X = pd.read_csv('../train_values.csv', index_col = 'patient_id')\n",
    "X = pd.get_dummies(data = X, columns = ['slope_of_peak_exercise_st_segment', 'thal', 'chest_pain_type',\n",
    "                                        'resting_ekg_results', 'sex'], drop_first = True)\n",
    "X_train, X_test, y_train, y_test = train_test_split(X.drop(['slope_of_peak_exercise_st_segment_3',\n",
    "                                                            'resting_ekg_results_1',\n",
    "                                                            'fasting_blood_sugar_gt_120_mg_per_dl',\n",
    "                                                           'chest_pain_type_2',\n",
    "                                                           'chest_pain_type_3',\n",
    "                                                           'resting_ekg_results_2'], \n",
    "                                                           axis = 1), y, test_size = 0.3)\n",
    "rfc = RandomForestClassifier()\n",
    "rfc.fit(X_train, y_train)\n",
    "print('Log loss for train data: {}'.format(log_loss(y_train, rfc.predict_proba(X_train))))\n",
    "print('Log loss for test data: {}'.format(log_loss(y_test, rfc.predict_proba(X_test))))\n",
    "data_feature = pd.Series(rfc.feature_importances_, X_train.columns).sort_values()\n",
    "data_feature.plot(kind = 'barh', title = 'Feature Importances', width = 0.8, figsize = (8, 8))\n",
    "plt.xlabel('Mean Impurity Reduction')"
   ]
  },
  {
   "cell_type": "markdown",
   "metadata": {},
   "source": [
    "## K Nearest Neighbor"
   ]
  },
  {
   "cell_type": "code",
   "execution_count": 31,
   "metadata": {
    "ExecuteTime": {
     "end_time": "2019-10-30T17:13:47.344441Z",
     "start_time": "2019-10-30T17:13:47.320442Z"
    }
   },
   "outputs": [
    {
     "name": "stdout",
     "output_type": "stream",
     "text": [
      "Log loss for train data: 0.4122973861516368\n",
      "Log loss for test data: 0.41781211361576936\n"
     ]
    },
    {
     "name": "stderr",
     "output_type": "stream",
     "text": [
      "C:\\ularFamily\\Anaconda3\\lib\\site-packages\\ipykernel_launcher.py:2: DataConversionWarning: A column-vector y was passed when a 1d array was expected. Please change the shape of y to (n_samples, ), for example using ravel().\n",
      "  \n"
     ]
    }
   ],
   "source": [
    "knn = KNeighborsClassifier(n_neighbors = 29)\n",
    "knn.fit(X_scale_train,y_scale_train)\n",
    "print('Log loss for train data: {}'.format(log_loss(y_scale_train, knn.predict_proba(X_scale_train))))\n",
    "print('Log loss for test data: {}'.format(log_loss(y_scale_test, knn.predict_proba(X_scale_test))))"
   ]
  },
  {
   "cell_type": "markdown",
   "metadata": {},
   "source": [
    "From results above, all models (except Linear Regression) are overfitting. However, compared to other overfitting models, Random Forest model has the lowest log loss both for train and test datas. We will conduct feature engineering to optimize Logistic Regression and Random Forest. First we will look at feature importance of these models."
   ]
  },
  {
   "cell_type": "markdown",
   "metadata": {},
   "source": [
    "## Feature Engineering"
   ]
  },
  {
   "cell_type": "code",
   "execution_count": 32,
   "metadata": {
    "ExecuteTime": {
     "end_time": "2019-10-30T17:13:47.488452Z",
     "start_time": "2019-10-30T17:13:47.348442Z"
    }
   },
   "outputs": [
    {
     "data": {
      "text/plain": [
       "StandardScaler(copy=True, with_mean=True, with_std=True)"
      ]
     },
     "execution_count": 32,
     "metadata": {},
     "output_type": "execute_result"
    }
   ],
   "source": [
    "scaler.fit(X)"
   ]
  },
  {
   "cell_type": "code",
   "execution_count": 33,
   "metadata": {
    "ExecuteTime": {
     "end_time": "2019-10-30T17:13:47.616461Z",
     "start_time": "2019-10-30T17:13:47.488452Z"
    }
   },
   "outputs": [
    {
     "data": {
      "text/html": [
       "<div>\n",
       "<style scoped>\n",
       "    .dataframe tbody tr th:only-of-type {\n",
       "        vertical-align: middle;\n",
       "    }\n",
       "\n",
       "    .dataframe tbody tr th {\n",
       "        vertical-align: top;\n",
       "    }\n",
       "\n",
       "    .dataframe thead th {\n",
       "        text-align: right;\n",
       "    }\n",
       "</style>\n",
       "<table border=\"1\" class=\"dataframe\">\n",
       "  <thead>\n",
       "    <tr style=\"text-align: right;\">\n",
       "      <th></th>\n",
       "      <th>resting_blood_pressure</th>\n",
       "      <th>num_major_vessels</th>\n",
       "      <th>fasting_blood_sugar_gt_120_mg_per_dl</th>\n",
       "      <th>serum_cholesterol_mg_per_dl</th>\n",
       "      <th>oldpeak_eq_st_depression</th>\n",
       "      <th>age</th>\n",
       "      <th>max_heart_rate_achieved</th>\n",
       "      <th>exercise_induced_angina</th>\n",
       "      <th>slope_of_peak_exercise_st_segment_2</th>\n",
       "      <th>slope_of_peak_exercise_st_segment_3</th>\n",
       "      <th>thal_normal</th>\n",
       "      <th>thal_reversible_defect</th>\n",
       "      <th>chest_pain_type_2</th>\n",
       "      <th>chest_pain_type_3</th>\n",
       "      <th>chest_pain_type_4</th>\n",
       "      <th>resting_ekg_results_1</th>\n",
       "      <th>resting_ekg_results_2</th>\n",
       "      <th>sex_1</th>\n",
       "    </tr>\n",
       "    <tr>\n",
       "      <th>patient_id</th>\n",
       "      <th></th>\n",
       "      <th></th>\n",
       "      <th></th>\n",
       "      <th></th>\n",
       "      <th></th>\n",
       "      <th></th>\n",
       "      <th></th>\n",
       "      <th></th>\n",
       "      <th></th>\n",
       "      <th></th>\n",
       "      <th></th>\n",
       "      <th></th>\n",
       "      <th></th>\n",
       "      <th></th>\n",
       "      <th></th>\n",
       "      <th></th>\n",
       "      <th></th>\n",
       "      <th></th>\n",
       "    </tr>\n",
       "  </thead>\n",
       "  <tbody>\n",
       "    <tr>\n",
       "      <th>0z64un</th>\n",
       "      <td>-0.195195</td>\n",
       "      <td>-0.718403</td>\n",
       "      <td>-0.438238</td>\n",
       "      <td>1.118269</td>\n",
       "      <td>-0.903207</td>\n",
       "      <td>-1.053964</td>\n",
       "      <td>0.932485</td>\n",
       "      <td>-0.680746</td>\n",
       "      <td>-0.845154</td>\n",
       "      <td>-0.267261</td>\n",
       "      <td>0.914732</td>\n",
       "      <td>-0.835532</td>\n",
       "      <td>2.329929</td>\n",
       "      <td>-0.680746</td>\n",
       "      <td>-0.914732</td>\n",
       "      <td>-0.074744</td>\n",
       "      <td>0.956501</td>\n",
       "      <td>0.672022</td>\n",
       "    </tr>\n",
       "    <tr>\n",
       "      <th>ryoo3j</th>\n",
       "      <td>-1.256320</td>\n",
       "      <td>-0.718403</td>\n",
       "      <td>-0.438238</td>\n",
       "      <td>-0.669778</td>\n",
       "      <td>0.527616</td>\n",
       "      <td>-0.087134</td>\n",
       "      <td>0.387084</td>\n",
       "      <td>-0.680746</td>\n",
       "      <td>1.183216</td>\n",
       "      <td>-0.267261</td>\n",
       "      <td>0.914732</td>\n",
       "      <td>-0.835532</td>\n",
       "      <td>-0.429198</td>\n",
       "      <td>1.468977</td>\n",
       "      <td>-0.914732</td>\n",
       "      <td>-0.074744</td>\n",
       "      <td>-1.045478</td>\n",
       "      <td>-1.488048</td>\n",
       "    </tr>\n",
       "    <tr>\n",
       "      <th>yt1s1x</th>\n",
       "      <td>-0.372049</td>\n",
       "      <td>2.385097</td>\n",
       "      <td>-0.438238</td>\n",
       "      <td>1.042182</td>\n",
       "      <td>-0.903207</td>\n",
       "      <td>2.383654</td>\n",
       "      <td>0.568884</td>\n",
       "      <td>1.468977</td>\n",
       "      <td>-0.845154</td>\n",
       "      <td>-0.267261</td>\n",
       "      <td>0.914732</td>\n",
       "      <td>-0.835532</td>\n",
       "      <td>-0.429198</td>\n",
       "      <td>-0.680746</td>\n",
       "      <td>1.093216</td>\n",
       "      <td>-0.074744</td>\n",
       "      <td>0.956501</td>\n",
       "      <td>0.672022</td>\n",
       "    </tr>\n",
       "    <tr>\n",
       "      <th>l2xjde</th>\n",
       "      <td>1.219639</td>\n",
       "      <td>-0.718403</td>\n",
       "      <td>-0.438238</td>\n",
       "      <td>-0.498582</td>\n",
       "      <td>-0.903207</td>\n",
       "      <td>-1.591092</td>\n",
       "      <td>1.432436</td>\n",
       "      <td>-0.680746</td>\n",
       "      <td>-0.845154</td>\n",
       "      <td>-0.267261</td>\n",
       "      <td>-1.093216</td>\n",
       "      <td>1.196843</td>\n",
       "      <td>-0.429198</td>\n",
       "      <td>-0.680746</td>\n",
       "      <td>1.093216</td>\n",
       "      <td>-0.074744</td>\n",
       "      <td>-1.045478</td>\n",
       "      <td>0.672022</td>\n",
       "    </tr>\n",
       "    <tr>\n",
       "      <th>oyt4ek</th>\n",
       "      <td>2.752375</td>\n",
       "      <td>-0.718403</td>\n",
       "      <td>-0.438238</td>\n",
       "      <td>0.395442</td>\n",
       "      <td>2.852703</td>\n",
       "      <td>0.449994</td>\n",
       "      <td>-0.203768</td>\n",
       "      <td>-0.680746</td>\n",
       "      <td>-0.845154</td>\n",
       "      <td>3.741657</td>\n",
       "      <td>-1.093216</td>\n",
       "      <td>1.196843</td>\n",
       "      <td>-0.429198</td>\n",
       "      <td>-0.680746</td>\n",
       "      <td>-0.914732</td>\n",
       "      <td>-0.074744</td>\n",
       "      <td>0.956501</td>\n",
       "      <td>0.672022</td>\n",
       "    </tr>\n",
       "  </tbody>\n",
       "</table>\n",
       "</div>"
      ],
      "text/plain": [
       "            resting_blood_pressure  num_major_vessels  \\\n",
       "patient_id                                              \n",
       "0z64un                   -0.195195          -0.718403   \n",
       "ryoo3j                   -1.256320          -0.718403   \n",
       "yt1s1x                   -0.372049           2.385097   \n",
       "l2xjde                    1.219639          -0.718403   \n",
       "oyt4ek                    2.752375          -0.718403   \n",
       "\n",
       "            fasting_blood_sugar_gt_120_mg_per_dl  serum_cholesterol_mg_per_dl  \\\n",
       "patient_id                                                                      \n",
       "0z64un                                 -0.438238                     1.118269   \n",
       "ryoo3j                                 -0.438238                    -0.669778   \n",
       "yt1s1x                                 -0.438238                     1.042182   \n",
       "l2xjde                                 -0.438238                    -0.498582   \n",
       "oyt4ek                                 -0.438238                     0.395442   \n",
       "\n",
       "            oldpeak_eq_st_depression       age  max_heart_rate_achieved  \\\n",
       "patient_id                                                                \n",
       "0z64un                     -0.903207 -1.053964                 0.932485   \n",
       "ryoo3j                      0.527616 -0.087134                 0.387084   \n",
       "yt1s1x                     -0.903207  2.383654                 0.568884   \n",
       "l2xjde                     -0.903207 -1.591092                 1.432436   \n",
       "oyt4ek                      2.852703  0.449994                -0.203768   \n",
       "\n",
       "            exercise_induced_angina  slope_of_peak_exercise_st_segment_2  \\\n",
       "patient_id                                                                 \n",
       "0z64un                    -0.680746                            -0.845154   \n",
       "ryoo3j                    -0.680746                             1.183216   \n",
       "yt1s1x                     1.468977                            -0.845154   \n",
       "l2xjde                    -0.680746                            -0.845154   \n",
       "oyt4ek                    -0.680746                            -0.845154   \n",
       "\n",
       "            slope_of_peak_exercise_st_segment_3  thal_normal  \\\n",
       "patient_id                                                     \n",
       "0z64un                                -0.267261     0.914732   \n",
       "ryoo3j                                -0.267261     0.914732   \n",
       "yt1s1x                                -0.267261     0.914732   \n",
       "l2xjde                                -0.267261    -1.093216   \n",
       "oyt4ek                                 3.741657    -1.093216   \n",
       "\n",
       "            thal_reversible_defect  chest_pain_type_2  chest_pain_type_3  \\\n",
       "patient_id                                                                 \n",
       "0z64un                   -0.835532           2.329929          -0.680746   \n",
       "ryoo3j                   -0.835532          -0.429198           1.468977   \n",
       "yt1s1x                   -0.835532          -0.429198          -0.680746   \n",
       "l2xjde                    1.196843          -0.429198          -0.680746   \n",
       "oyt4ek                    1.196843          -0.429198          -0.680746   \n",
       "\n",
       "            chest_pain_type_4  resting_ekg_results_1  resting_ekg_results_2  \\\n",
       "patient_id                                                                    \n",
       "0z64un              -0.914732              -0.074744               0.956501   \n",
       "ryoo3j              -0.914732              -0.074744              -1.045478   \n",
       "yt1s1x               1.093216              -0.074744               0.956501   \n",
       "l2xjde               1.093216              -0.074744              -1.045478   \n",
       "oyt4ek              -0.914732              -0.074744               0.956501   \n",
       "\n",
       "               sex_1  \n",
       "patient_id            \n",
       "0z64un      0.672022  \n",
       "ryoo3j     -1.488048  \n",
       "yt1s1x      0.672022  \n",
       "l2xjde      0.672022  \n",
       "oyt4ek      0.672022  "
      ]
     },
     "execution_count": 33,
     "metadata": {},
     "output_type": "execute_result"
    }
   ],
   "source": [
    "X_scale = pd.DataFrame(scaler.transform(X), index = X.index, columns = X.columns)\n",
    "X_scale.head()"
   ]
  },
  {
   "cell_type": "code",
   "execution_count": 34,
   "metadata": {
    "ExecuteTime": {
     "end_time": "2019-10-30T17:13:47.724468Z",
     "start_time": "2019-10-30T17:13:47.620464Z"
    }
   },
   "outputs": [
    {
     "name": "stdout",
     "output_type": "stream",
     "text": [
      "Log loss for train data: 0.35509117881815466\n",
      "Log loss for test data: 0.3845411105336446\n"
     ]
    },
    {
     "name": "stderr",
     "output_type": "stream",
     "text": [
      "C:\\ularFamily\\Anaconda3\\lib\\site-packages\\sklearn\\linear_model\\logistic.py:432: FutureWarning: Default solver will be changed to 'lbfgs' in 0.22. Specify a solver to silence this warning.\n",
      "  FutureWarning)\n",
      "C:\\ularFamily\\Anaconda3\\lib\\site-packages\\sklearn\\utils\\validation.py:724: DataConversionWarning: A column-vector y was passed when a 1d array was expected. Please change the shape of y to (n_samples, ), for example using ravel().\n",
      "  y = column_or_1d(y, warn=True)\n"
     ]
    }
   ],
   "source": [
    "logistic = LogisticRegression()\n",
    "logistic.fit(X_train, y_train)\n",
    "print('Log loss for train data: {}'.format(log_loss(y_train, logistic.predict_proba(X_train))))\n",
    "print('Log loss for test data: {}'.format(log_loss(y_test, logistic.predict_proba(X_test))))"
   ]
  },
  {
   "cell_type": "code",
   "execution_count": 35,
   "metadata": {
    "ExecuteTime": {
     "end_time": "2019-10-30T17:13:47.812474Z",
     "start_time": "2019-10-30T17:13:47.728473Z"
    }
   },
   "outputs": [
    {
     "name": "stdout",
     "output_type": "stream",
     "text": [
      "Log loss for train data: 9.992007221626413e-16\n",
      "Log loss for test data: 10.873318494694104\n"
     ]
    }
   ],
   "source": [
    "tree = DecisionTreeClassifier()\n",
    "tree.fit(X_train, y_train)\n",
    "print('Log loss for train data: {}'.format(log_loss(y_train, tree.predict_proba(X_train))))\n",
    "print('Log loss for test data: {}'.format(log_loss(y_test, tree.predict_proba(X_test))))"
   ]
  },
  {
   "cell_type": "code",
   "execution_count": 36,
   "metadata": {
    "ExecuteTime": {
     "end_time": "2019-10-30T17:13:47.928484Z",
     "start_time": "2019-10-30T17:13:47.812474Z"
    }
   },
   "outputs": [
    {
     "name": "stderr",
     "output_type": "stream",
     "text": [
      "C:\\ularFamily\\Anaconda3\\lib\\site-packages\\ipykernel_launcher.py:2: DataConversionWarning: A column-vector y was passed when a 1d array was expected. Please change the shape of y to (n_samples, ), for example using ravel().\n",
      "  \n"
     ]
    },
    {
     "name": "stdout",
     "output_type": "stream",
     "text": [
      "Log loss for train data: 0.4122973861516368\n",
      "Log loss for test data: 0.41781211361576936\n"
     ]
    }
   ],
   "source": [
    "knn = KNeighborsClassifier(n_neighbors = 29)\n",
    "knn.fit(X_scale_train,y_scale_train)\n",
    "print('Log loss for train data: {}'.format(log_loss(y_scale_train, knn.predict_proba(X_scale_train))))\n",
    "print('Log loss for test data: {}'.format(log_loss(y_scale_test, knn.predict_proba(X_scale_test))))"
   ]
  },
  {
   "cell_type": "code",
   "execution_count": 37,
   "metadata": {
    "ExecuteTime": {
     "end_time": "2019-10-30T17:13:48.883855Z",
     "start_time": "2019-10-30T17:13:47.928484Z"
    }
   },
   "outputs": [
    {
     "name": "stderr",
     "output_type": "stream",
     "text": [
      "C:\\ularFamily\\Anaconda3\\lib\\site-packages\\sklearn\\ensemble\\forest.py:245: FutureWarning: The default value of n_estimators will change from 10 in version 0.20 to 100 in 0.22.\n",
      "  \"10 in version 0.20 to 100 in 0.22.\", FutureWarning)\n",
      "C:\\ularFamily\\Anaconda3\\lib\\site-packages\\ipykernel_launcher.py:11: DataConversionWarning: A column-vector y was passed when a 1d array was expected. Please change the shape of y to (n_samples,), for example using ravel().\n",
      "  # This is added back by InteractiveShellApp.init_path()\n"
     ]
    },
    {
     "name": "stdout",
     "output_type": "stream",
     "text": [
      "Log loss for train data: 0.12999371149783312\n",
      "Log loss for test data: 1.6447510515723305\n"
     ]
    },
    {
     "data": {
      "text/plain": [
       "Text(0.5, 0, 'Mean Impurity Reduction')"
      ]
     },
     "execution_count": 37,
     "metadata": {},
     "output_type": "execute_result"
    },
    {
     "data": {
      "image/png": "[encoded data removed]",
      "text/plain": [
       "<Figure size 576x576 with 1 Axes>"
      ]
     },
     "metadata": {},
     "output_type": "display_data"
    }
   ],
   "source": [
    "X = pd.read_csv('../train_values.csv', index_col = 'patient_id')\n",
    "X['slope_of_peak_exercise_st_segment'] = X['slope_of_peak_exercise_st_segment'].apply(lambda x: 0 if x == 1 else 1)\n",
    "X['thal'] = X['thal'].apply(lambda x: 0 if x == 'normal' else 1)\n",
    "X['chest_pain_type'] = X['chest_pain_type'].apply(lambda x: 1 if x == 4 else 0)\n",
    "X['num_major_vessels'] = X['num_major_vessels'].apply(lambda x: 0 if x == 0 else 1)\n",
    "X['resting_ekg_results'] = X['resting_ekg_results'].apply(lambda x: 0 if x == 0 else 1)\n",
    "\n",
    "X_train, X_test, y_train, y_test = train_test_split(X, y, test_size = 0.3)\n",
    "X_scale_train, X_scale_test, y_scale_train, y_scale_test = train_test_split(X_scale, y, test_size = 0.3)\n",
    "rfc = RandomForestClassifier()\n",
    "rfc.fit(X_train, y_train)\n",
    "print('Log loss for train data: {}'.format(log_loss(y_train, rfc.predict_proba(X_train))))\n",
    "print('Log loss for test data: {}'.format(log_loss(y_test, rfc.predict_proba(X_test))))\n",
    "data_feature = pd.Series(rfc.feature_importances_, X_train.columns).sort_values()\n",
    "data_feature.plot(kind = 'barh', title = 'Feature Importances', width = 0.8, figsize = (8, 8))\n",
    "plt.xlabel('Mean Impurity Reduction')"
   ]
  },
  {
   "cell_type": "code",
   "execution_count": 38,
   "metadata": {
    "ExecuteTime": {
     "end_time": "2019-10-30T17:13:48.919881Z",
     "start_time": "2019-10-30T17:13:48.886857Z"
    }
   },
   "outputs": [],
   "source": [
    "X = pd.read_csv('../train_values.csv', index_col = 'patient_id')\n",
    "X['slope_of_peak_exercise_st_segment'] = X['slope_of_peak_exercise_st_segment'].apply(lambda x: 0 if x == 1 else 1)\n",
    "X['thal'] = X['thal'].apply(lambda x: 0 if x == 'normal' else 1)\n",
    "X['chest_pain_type'] = X['chest_pain_type'].apply(lambda x: 1 if x == 4 else 0)\n",
    "X['num_major_vessels'] = X['num_major_vessels'].apply(lambda x: 0 if x == 0 else 1)\n",
    "X['resting_ekg_results'] = X['resting_ekg_results'].apply(lambda x: 0 if x == 0 else 1)"
   ]
  },
  {
   "cell_type": "code",
   "execution_count": 39,
   "metadata": {
    "ExecuteTime": {
     "end_time": "2019-10-30T17:13:49.805037Z",
     "start_time": "2019-10-30T17:13:48.922882Z"
    }
   },
   "outputs": [
    {
     "name": "stdout",
     "output_type": "stream",
     "text": [
      "Log loss for train data: 0.15952615674818862\n",
      "Log loss for test data: 1.0128792599216974\n"
     ]
    },
    {
     "name": "stderr",
     "output_type": "stream",
     "text": [
      "C:\\ularFamily\\Anaconda3\\lib\\site-packages\\sklearn\\ensemble\\forest.py:245: FutureWarning: The default value of n_estimators will change from 10 in version 0.20 to 100 in 0.22.\n",
      "  \"10 in version 0.20 to 100 in 0.22.\", FutureWarning)\n",
      "C:\\ularFamily\\Anaconda3\\lib\\site-packages\\ipykernel_launcher.py:9: DataConversionWarning: A column-vector y was passed when a 1d array was expected. Please change the shape of y to (n_samples,), for example using ravel().\n",
      "  if __name__ == '__main__':\n"
     ]
    },
    {
     "data": {
      "text/plain": [
       "Text(0.5, 0, 'Mean Impurity Reduction')"
      ]
     },
     "execution_count": 39,
     "metadata": {},
     "output_type": "execute_result"
    },
    {
     "data": {
      "image/png": "[encoded data removed]",
      "text/plain": [
       "<Figure size 576x576 with 1 Axes>"
      ]
     },
     "metadata": {},
     "output_type": "display_data"
    }
   ],
   "source": [
    "X_train, X_test, y_train, y_test = train_test_split(X.drop(['fasting_blood_sugar_gt_120_mg_per_dl', \n",
    "                                                           'slope_of_peak_exercise_st_segment',\n",
    "                                                           'resting_ekg_results',\n",
    "                                                           'sex',\n",
    "                                                           'exercise_induced_angina'], axis = 1), \n",
    "                                                    y, test_size = 0.3)\n",
    "X_scale_train, X_scale_test, y_scale_train, y_scale_test = train_test_split(X_scale, y, test_size = 0.3)\n",
    "rfc = RandomForestClassifier()\n",
    "rfc.fit(X_train, y_train)\n",
    "print('Log loss for train data: {}'.format(log_loss(y_train, rfc.predict_proba(X_train))))\n",
    "print('Log loss for test data: {}'.format(log_loss(y_test, rfc.predict_proba(X_test))))\n",
    "data_feature = pd.Series(rfc.feature_importances_, X_train.columns).sort_values()\n",
    "data_feature.plot(kind = 'barh', title = 'Feature Importances', width = 0.8, figsize = (8, 8))\n",
    "plt.xlabel('Mean Impurity Reduction')"
   ]
  },
  {
   "cell_type": "markdown",
   "metadata": {},
   "source": [
    "## Validating model"
   ]
  },
  {
   "cell_type": "code",
   "execution_count": 40,
   "metadata": {
    "ExecuteTime": {
     "end_time": "2019-10-30T17:15:41.825827Z",
     "start_time": "2019-10-30T17:13:49.805037Z"
    }
   },
   "outputs": [
    {
     "name": "stdout",
     "output_type": "stream",
     "text": [
      "{'bootstrap': True, 'criterion': 'gini', 'max_depth': 7, 'min_samples_leaf': 4, 'min_samples_split': 7, 'n_estimators': 25}\n",
      "Log loss: -0.5085316446162906\n"
     ]
    },
    {
     "name": "stderr",
     "output_type": "stream",
     "text": [
      "C:\\ularFamily\\Anaconda3\\lib\\site-packages\\sklearn\\model_selection\\_search.py:813: DeprecationWarning: The default of the `iid` parameter will change from True to False in version 0.22 and will be removed in 0.24. This will change numeric results when test-set sizes are unequal.\n",
      "  DeprecationWarning)\n",
      "C:\\ularFamily\\Anaconda3\\lib\\site-packages\\sklearn\\model_selection\\_search.py:714: DataConversionWarning: A column-vector y was passed when a 1d array was expected. Please change the shape of y to (n_samples,), for example using ravel().\n",
      "  self.best_estimator_.fit(X, y, **fit_params)\n"
     ]
    }
   ],
   "source": [
    "# Cross validation to get best parameter\n",
    "search = GridSearchCV(estimator = rfc,\n",
    "                     param_grid = {\n",
    "                         'n_estimators' : [25, 45, 50, 55, 70],\n",
    "                         'criterion' : ['gini', 'entropy'],\n",
    "                         'min_samples_split' : [5, 7, 9],\n",
    "                         'min_samples_leaf' : [2, 3, 4],\n",
    "                         'bootstrap' : [True, False],\n",
    "                         'max_depth' : [7, 8, 9]\n",
    "                     }, scoring = 'neg_log_loss',\n",
    "                     cv = 5,\n",
    "                     n_jobs = -1) \n",
    "\n",
    "search.fit(X_train, y_train)\n",
    "print(search.best_params_)\n",
    "print(f'Log loss: {search.best_score_}')"
   ]
  },
  {
   "cell_type": "code",
   "execution_count": 41,
   "metadata": {
    "ExecuteTime": {
     "end_time": "2019-10-30T17:15:41.833833Z",
     "start_time": "2019-10-30T17:15:41.828830Z"
    }
   },
   "outputs": [],
   "source": [
    "rfc_4 = RandomForestClassifier(bootstrap = False, criterion = 'entropy', max_depth = 7, \n",
    "                               min_samples_leaf = 4, min_samples_split = 7, n_estimators = 55)"
   ]
  },
  {
   "cell_type": "code",
   "execution_count": 42,
   "metadata": {
    "ExecuteTime": {
     "end_time": "2019-10-30T17:15:42.045984Z",
     "start_time": "2019-10-30T17:15:41.838837Z"
    }
   },
   "outputs": [
    {
     "name": "stderr",
     "output_type": "stream",
     "text": [
      "C:\\ularFamily\\Anaconda3\\lib\\site-packages\\ipykernel_launcher.py:1: DataConversionWarning: A column-vector y was passed when a 1d array was expected. Please change the shape of y to (n_samples,), for example using ravel().\n",
      "  \"\"\"Entry point for launching an IPython kernel.\n"
     ]
    },
    {
     "data": {
      "text/plain": [
       "RandomForestClassifier(bootstrap=False, class_weight=None, criterion='entropy',\n",
       "                       max_depth=7, max_features='auto', max_leaf_nodes=None,\n",
       "                       min_impurity_decrease=0.0, min_impurity_split=None,\n",
       "                       min_samples_leaf=4, min_samples_split=7,\n",
       "                       min_weight_fraction_leaf=0.0, n_estimators=55,\n",
       "                       n_jobs=None, oob_score=False, random_state=None,\n",
       "                       verbose=0, warm_start=False)"
      ]
     },
     "execution_count": 42,
     "metadata": {},
     "output_type": "execute_result"
    }
   ],
   "source": [
    "rfc_4.fit(X_train, y_train)"
   ]
  },
  {
   "cell_type": "code",
   "execution_count": 43,
   "metadata": {
    "ExecuteTime": {
     "end_time": "2019-10-30T17:15:42.138049Z",
     "start_time": "2019-10-30T17:15:42.048986Z"
    }
   },
   "outputs": [
    {
     "name": "stdout",
     "output_type": "stream",
     "text": [
      "Log loss Data Train: 0.25701744206639576\n",
      "Log loss Data Test: 0.35163776111877215\n"
     ]
    }
   ],
   "source": [
    "# Log loss for default model\n",
    "print(f'Log loss Data Train: {log_loss(y_train, rfc_4.predict_proba(X_train))}')\n",
    "print(f'Log loss Data Test: {log_loss(y_test, rfc_4.predict_proba(X_test))}')"
   ]
  },
  {
   "cell_type": "markdown",
   "metadata": {},
   "source": [
    "## AdaBoost"
   ]
  },
  {
   "cell_type": "code",
   "execution_count": 44,
   "metadata": {
    "ExecuteTime": {
     "end_time": "2019-10-30T17:15:42.212102Z",
     "start_time": "2019-10-30T17:15:42.141051Z"
    }
   },
   "outputs": [],
   "source": [
    "from sklearn.ensemble import AdaBoostClassifier"
   ]
  },
  {
   "cell_type": "code",
   "execution_count": 45,
   "metadata": {
    "ExecuteTime": {
     "end_time": "2019-10-30T17:15:42.314205Z",
     "start_time": "2019-10-30T17:15:42.215104Z"
    }
   },
   "outputs": [],
   "source": [
    "rfc_4 = RandomForestClassifier(bootstrap = False, criterion = 'gini', max_depth = 9, \n",
    "                               min_samples_leaf = 3, min_samples_split = 7, n_estimators = 50)"
   ]
  },
  {
   "cell_type": "code",
   "execution_count": 46,
   "metadata": {
    "ExecuteTime": {
     "end_time": "2019-10-30T17:15:42.394026Z",
     "start_time": "2019-10-30T17:15:42.314205Z"
    }
   },
   "outputs": [],
   "source": [
    "ada = AdaBoostClassifier(base_estimator = rfc_4, n_estimators = 1000, learning_rate = 0.05, algorithm = 'SAMME')"
   ]
  },
  {
   "cell_type": "code",
   "execution_count": 47,
   "metadata": {
    "ExecuteTime": {
     "end_time": "2019-10-30T17:15:42.503096Z",
     "start_time": "2019-10-30T17:15:42.396027Z"
    }
   },
   "outputs": [],
   "source": [
    "X = pd.read_csv('../train_values.csv', index_col = 'patient_id')\n",
    "X['slope_of_peak_exercise_st_segment'] = X['slope_of_peak_exercise_st_segment'].apply(lambda x: 0 if x == 1 else 1)\n",
    "X['thal'] = X['thal'].apply(lambda x: 0 if x == 'normal' else 1)\n",
    "X['chest_pain_type'] = X['chest_pain_type'].apply(lambda x: 1 if x == 4 else 0)\n",
    "X['num_major_vessels'] = X['num_major_vessels'].apply(lambda x: 0 if x == 0 else 1)\n",
    "X['resting_ekg_results'] = X['resting_ekg_results'].apply(lambda x: 0 if x == 0 else 1)\n",
    "\n",
    "X_train, X_test, y_train, y_test = train_test_split(X.drop(['fasting_blood_sugar_gt_120_mg_per_dl', \n",
    "                                                           'slope_of_peak_exercise_st_segment',\n",
    "                                                           'resting_ekg_results',\n",
    "                                                           'sex',\n",
    "                                                           'exercise_induced_angina'], axis = 1), \n",
    "                                                    y, test_size = 0.3)"
   ]
  },
  {
   "cell_type": "code",
   "execution_count": 48,
   "metadata": {
    "ExecuteTime": {
     "end_time": "2019-10-30T17:15:42.839102Z",
     "start_time": "2019-10-30T17:15:42.503096Z"
    }
   },
   "outputs": [
    {
     "name": "stderr",
     "output_type": "stream",
     "text": [
      "C:\\ularFamily\\Anaconda3\\lib\\site-packages\\ipykernel_launcher.py:1: DataConversionWarning: A column-vector y was passed when a 1d array was expected. Please change the shape of y to (n_samples,), for example using ravel().\n",
      "  \"\"\"Entry point for launching an IPython kernel.\n",
      "C:\\ularFamily\\Anaconda3\\lib\\site-packages\\sklearn\\utils\\validation.py:724: DataConversionWarning: A column-vector y was passed when a 1d array was expected. Please change the shape of y to (n_samples, ), for example using ravel().\n",
      "  y = column_or_1d(y, warn=True)\n"
     ]
    },
    {
     "data": {
      "text/plain": [
       "AdaBoostClassifier(algorithm='SAMME',\n",
       "                   base_estimator=RandomForestClassifier(bootstrap=False,\n",
       "                                                         class_weight=None,\n",
       "                                                         criterion='gini',\n",
       "                                                         max_depth=9,\n",
       "                                                         max_features='auto',\n",
       "                                                         max_leaf_nodes=None,\n",
       "                                                         min_impurity_decrease=0.0,\n",
       "                                                         min_impurity_split=None,\n",
       "                                                         min_samples_leaf=3,\n",
       "                                                         min_samples_split=7,\n",
       "                                                         min_weight_fraction_leaf=0.0,\n",
       "                                                         n_estimators=50,\n",
       "                                                         n_jobs=None,\n",
       "                                                         oob_score=False,\n",
       "                                                         random_state=None,\n",
       "                                                         verbose=0,\n",
       "                                                         warm_start=False),\n",
       "                   learning_rate=0.05, n_estimators=1000, random_state=None)"
      ]
     },
     "execution_count": 48,
     "metadata": {},
     "output_type": "execute_result"
    }
   ],
   "source": [
    "rfc_4.fit(X_train, y_train)\n",
    "ada.fit(X_train, y_train)"
   ]
  },
  {
   "cell_type": "code",
   "execution_count": 49,
   "metadata": {
    "ExecuteTime": {
     "end_time": "2019-10-30T17:15:42.911107Z",
     "start_time": "2019-10-30T17:15:42.839102Z"
    }
   },
   "outputs": [
    {
     "name": "stdout",
     "output_type": "stream",
     "text": [
      "Log loss Data Train: 0.41300771780812645\n",
      "Log loss Data Test: 0.5838048019787625\n"
     ]
    }
   ],
   "source": [
    "print(f'Log loss Data Train: {log_loss(y_train, ada.predict_proba(X_train))}')\n",
    "print(f'Log loss Data Test: {log_loss(y_test, ada.predict_proba(X_test))}')"
   ]
  },
  {
   "cell_type": "code",
   "execution_count": 50,
   "metadata": {
    "ExecuteTime": {
     "end_time": "2019-10-30T17:15:42.939109Z",
     "start_time": "2019-10-30T17:15:42.911107Z"
    }
   },
   "outputs": [],
   "source": [
    "# param_grid = {\n",
    "#     'base_estimator__min_samples_split' : [i for i in range(2, 5)],\n",
    "#     'base_estimator__min_samples_leaf' : [i for i in range(1, 5)],\n",
    "#     'base_estimator__max_depth' : [i for i in range(1, 5)],\n",
    "#     'n_estimators' : [10, 25, 50, 100],\n",
    "#     'learning_rate' : np.linspace(0.01, 0.1, 5)\n",
    "# }\n",
    "# search = GridSearchCV(estimator = ada, param_grid = param_grid, scoring = 'neg_log_loss', cv = 5)\n",
    "# search.fit(X_train, y_train)\n",
    "# print(search.best_params_)\n",
    "# print(f'Log loss: {search.best_score_}')"
   ]
  },
  {
   "cell_type": "markdown",
   "metadata": {},
   "source": [
    "## PCA"
   ]
  },
  {
   "cell_type": "code",
   "execution_count": 51,
   "metadata": {
    "ExecuteTime": {
     "end_time": "2019-10-30T17:15:43.023115Z",
     "start_time": "2019-10-30T17:15:42.939109Z"
    }
   },
   "outputs": [],
   "source": [
    "from sklearn.decomposition import PCA"
   ]
  },
  {
   "cell_type": "code",
   "execution_count": 52,
   "metadata": {
    "ExecuteTime": {
     "end_time": "2019-10-30T17:15:43.123122Z",
     "start_time": "2019-10-30T17:15:43.023115Z"
    }
   },
   "outputs": [],
   "source": [
    "pca = PCA(n_components=2)"
   ]
  },
  {
   "cell_type": "code",
   "execution_count": 53,
   "metadata": {
    "ExecuteTime": {
     "end_time": "2019-10-30T17:15:43.207127Z",
     "start_time": "2019-10-30T17:15:43.123122Z"
    }
   },
   "outputs": [
    {
     "data": {
      "text/plain": [
       "PCA(copy=True, iterated_power='auto', n_components=2, random_state=None,\n",
       "    svd_solver='auto', tol=0.0, whiten=False)"
      ]
     },
     "execution_count": 53,
     "metadata": {},
     "output_type": "execute_result"
    }
   ],
   "source": [
    "pca.fit(X_scale)"
   ]
  },
  {
   "cell_type": "code",
   "execution_count": 54,
   "metadata": {
    "ExecuteTime": {
     "end_time": "2019-10-30T17:15:43.315135Z",
     "start_time": "2019-10-30T17:15:43.207127Z"
    }
   },
   "outputs": [],
   "source": [
    "x_pca = pca.transform(X_scale)"
   ]
  },
  {
   "cell_type": "code",
   "execution_count": 55,
   "metadata": {
    "ExecuteTime": {
     "end_time": "2019-10-30T17:15:43.419145Z",
     "start_time": "2019-10-30T17:15:43.319134Z"
    },
    "scrolled": true
   },
   "outputs": [
    {
     "data": {
      "text/html": [
       "<div>\n",
       "<style scoped>\n",
       "    .dataframe tbody tr th:only-of-type {\n",
       "        vertical-align: middle;\n",
       "    }\n",
       "\n",
       "    .dataframe tbody tr th {\n",
       "        vertical-align: top;\n",
       "    }\n",
       "\n",
       "    .dataframe thead th {\n",
       "        text-align: right;\n",
       "    }\n",
       "</style>\n",
       "<table border=\"1\" class=\"dataframe\">\n",
       "  <thead>\n",
       "    <tr style=\"text-align: right;\">\n",
       "      <th></th>\n",
       "      <th>0</th>\n",
       "      <th>1</th>\n",
       "    </tr>\n",
       "  </thead>\n",
       "  <tbody>\n",
       "    <tr>\n",
       "      <th>0</th>\n",
       "      <td>-2.470081</td>\n",
       "      <td>-0.782910</td>\n",
       "    </tr>\n",
       "    <tr>\n",
       "      <th>1</th>\n",
       "      <td>-1.886121</td>\n",
       "      <td>0.438298</td>\n",
       "    </tr>\n",
       "    <tr>\n",
       "      <th>2</th>\n",
       "      <td>0.927528</td>\n",
       "      <td>1.691498</td>\n",
       "    </tr>\n",
       "    <tr>\n",
       "      <th>3</th>\n",
       "      <td>0.062161</td>\n",
       "      <td>-2.490860</td>\n",
       "    </tr>\n",
       "    <tr>\n",
       "      <th>4</th>\n",
       "      <td>2.193748</td>\n",
       "      <td>0.638513</td>\n",
       "    </tr>\n",
       "    <tr>\n",
       "      <th>5</th>\n",
       "      <td>-2.330272</td>\n",
       "      <td>-1.144814</td>\n",
       "    </tr>\n",
       "    <tr>\n",
       "      <th>6</th>\n",
       "      <td>2.088236</td>\n",
       "      <td>1.089616</td>\n",
       "    </tr>\n",
       "    <tr>\n",
       "      <th>7</th>\n",
       "      <td>2.302093</td>\n",
       "      <td>0.713133</td>\n",
       "    </tr>\n",
       "    <tr>\n",
       "      <th>8</th>\n",
       "      <td>3.482484</td>\n",
       "      <td>0.533484</td>\n",
       "    </tr>\n",
       "    <tr>\n",
       "      <th>9</th>\n",
       "      <td>-1.893246</td>\n",
       "      <td>0.440248</td>\n",
       "    </tr>\n",
       "    <tr>\n",
       "      <th>10</th>\n",
       "      <td>-0.027476</td>\n",
       "      <td>0.873297</td>\n",
       "    </tr>\n",
       "    <tr>\n",
       "      <th>11</th>\n",
       "      <td>-1.450913</td>\n",
       "      <td>-1.406157</td>\n",
       "    </tr>\n",
       "    <tr>\n",
       "      <th>12</th>\n",
       "      <td>-1.870093</td>\n",
       "      <td>1.032219</td>\n",
       "    </tr>\n",
       "    <tr>\n",
       "      <th>13</th>\n",
       "      <td>-0.106007</td>\n",
       "      <td>0.320026</td>\n",
       "    </tr>\n",
       "    <tr>\n",
       "      <th>14</th>\n",
       "      <td>1.264736</td>\n",
       "      <td>-2.447809</td>\n",
       "    </tr>\n",
       "    <tr>\n",
       "      <th>15</th>\n",
       "      <td>2.479769</td>\n",
       "      <td>-1.124843</td>\n",
       "    </tr>\n",
       "    <tr>\n",
       "      <th>16</th>\n",
       "      <td>-2.419405</td>\n",
       "      <td>-0.167020</td>\n",
       "    </tr>\n",
       "    <tr>\n",
       "      <th>17</th>\n",
       "      <td>2.161373</td>\n",
       "      <td>-1.066740</td>\n",
       "    </tr>\n",
       "    <tr>\n",
       "      <th>18</th>\n",
       "      <td>-3.283181</td>\n",
       "      <td>-2.501339</td>\n",
       "    </tr>\n",
       "    <tr>\n",
       "      <th>19</th>\n",
       "      <td>-1.858211</td>\n",
       "      <td>2.011265</td>\n",
       "    </tr>\n",
       "    <tr>\n",
       "      <th>20</th>\n",
       "      <td>-1.692617</td>\n",
       "      <td>2.023186</td>\n",
       "    </tr>\n",
       "    <tr>\n",
       "      <th>21</th>\n",
       "      <td>1.243529</td>\n",
       "      <td>-1.069982</td>\n",
       "    </tr>\n",
       "    <tr>\n",
       "      <th>22</th>\n",
       "      <td>-0.564385</td>\n",
       "      <td>0.839634</td>\n",
       "    </tr>\n",
       "    <tr>\n",
       "      <th>23</th>\n",
       "      <td>1.195313</td>\n",
       "      <td>0.690657</td>\n",
       "    </tr>\n",
       "    <tr>\n",
       "      <th>24</th>\n",
       "      <td>-1.526765</td>\n",
       "      <td>0.881794</td>\n",
       "    </tr>\n",
       "    <tr>\n",
       "      <th>25</th>\n",
       "      <td>-0.850028</td>\n",
       "      <td>2.114817</td>\n",
       "    </tr>\n",
       "    <tr>\n",
       "      <th>26</th>\n",
       "      <td>-0.957033</td>\n",
       "      <td>1.186932</td>\n",
       "    </tr>\n",
       "    <tr>\n",
       "      <th>27</th>\n",
       "      <td>-2.760161</td>\n",
       "      <td>-1.038272</td>\n",
       "    </tr>\n",
       "    <tr>\n",
       "      <th>28</th>\n",
       "      <td>-0.654772</td>\n",
       "      <td>0.933422</td>\n",
       "    </tr>\n",
       "    <tr>\n",
       "      <th>29</th>\n",
       "      <td>-1.747876</td>\n",
       "      <td>-0.745069</td>\n",
       "    </tr>\n",
       "    <tr>\n",
       "      <th>...</th>\n",
       "      <td>...</td>\n",
       "      <td>...</td>\n",
       "    </tr>\n",
       "    <tr>\n",
       "      <th>150</th>\n",
       "      <td>-0.850159</td>\n",
       "      <td>-2.089214</td>\n",
       "    </tr>\n",
       "    <tr>\n",
       "      <th>151</th>\n",
       "      <td>-1.053275</td>\n",
       "      <td>0.654556</td>\n",
       "    </tr>\n",
       "    <tr>\n",
       "      <th>152</th>\n",
       "      <td>2.056583</td>\n",
       "      <td>-2.699377</td>\n",
       "    </tr>\n",
       "    <tr>\n",
       "      <th>153</th>\n",
       "      <td>-0.797036</td>\n",
       "      <td>-0.561153</td>\n",
       "    </tr>\n",
       "    <tr>\n",
       "      <th>154</th>\n",
       "      <td>0.933950</td>\n",
       "      <td>1.099005</td>\n",
       "    </tr>\n",
       "    <tr>\n",
       "      <th>155</th>\n",
       "      <td>-0.808131</td>\n",
       "      <td>1.139512</td>\n",
       "    </tr>\n",
       "    <tr>\n",
       "      <th>156</th>\n",
       "      <td>-0.757693</td>\n",
       "      <td>1.864910</td>\n",
       "    </tr>\n",
       "    <tr>\n",
       "      <th>157</th>\n",
       "      <td>-2.345971</td>\n",
       "      <td>0.632606</td>\n",
       "    </tr>\n",
       "    <tr>\n",
       "      <th>158</th>\n",
       "      <td>-2.588646</td>\n",
       "      <td>-1.119865</td>\n",
       "    </tr>\n",
       "    <tr>\n",
       "      <th>159</th>\n",
       "      <td>3.357527</td>\n",
       "      <td>-0.264513</td>\n",
       "    </tr>\n",
       "    <tr>\n",
       "      <th>160</th>\n",
       "      <td>-2.419065</td>\n",
       "      <td>-1.135707</td>\n",
       "    </tr>\n",
       "    <tr>\n",
       "      <th>161</th>\n",
       "      <td>2.082333</td>\n",
       "      <td>-0.830299</td>\n",
       "    </tr>\n",
       "    <tr>\n",
       "      <th>162</th>\n",
       "      <td>3.590819</td>\n",
       "      <td>1.362253</td>\n",
       "    </tr>\n",
       "    <tr>\n",
       "      <th>163</th>\n",
       "      <td>2.623863</td>\n",
       "      <td>-0.402164</td>\n",
       "    </tr>\n",
       "    <tr>\n",
       "      <th>164</th>\n",
       "      <td>2.096040</td>\n",
       "      <td>-1.048880</td>\n",
       "    </tr>\n",
       "    <tr>\n",
       "      <th>165</th>\n",
       "      <td>-2.170680</td>\n",
       "      <td>1.908226</td>\n",
       "    </tr>\n",
       "    <tr>\n",
       "      <th>166</th>\n",
       "      <td>1.133331</td>\n",
       "      <td>-2.069908</td>\n",
       "    </tr>\n",
       "    <tr>\n",
       "      <th>167</th>\n",
       "      <td>0.885247</td>\n",
       "      <td>-1.754916</td>\n",
       "    </tr>\n",
       "    <tr>\n",
       "      <th>168</th>\n",
       "      <td>0.721187</td>\n",
       "      <td>0.897425</td>\n",
       "    </tr>\n",
       "    <tr>\n",
       "      <th>169</th>\n",
       "      <td>0.278441</td>\n",
       "      <td>0.272219</td>\n",
       "    </tr>\n",
       "    <tr>\n",
       "      <th>170</th>\n",
       "      <td>2.481663</td>\n",
       "      <td>-0.289284</td>\n",
       "    </tr>\n",
       "    <tr>\n",
       "      <th>171</th>\n",
       "      <td>0.572188</td>\n",
       "      <td>0.187569</td>\n",
       "    </tr>\n",
       "    <tr>\n",
       "      <th>172</th>\n",
       "      <td>1.165755</td>\n",
       "      <td>-2.415481</td>\n",
       "    </tr>\n",
       "    <tr>\n",
       "      <th>173</th>\n",
       "      <td>1.505903</td>\n",
       "      <td>-1.543459</td>\n",
       "    </tr>\n",
       "    <tr>\n",
       "      <th>174</th>\n",
       "      <td>-0.650128</td>\n",
       "      <td>-0.400125</td>\n",
       "    </tr>\n",
       "    <tr>\n",
       "      <th>175</th>\n",
       "      <td>1.612698</td>\n",
       "      <td>0.014658</td>\n",
       "    </tr>\n",
       "    <tr>\n",
       "      <th>176</th>\n",
       "      <td>2.183811</td>\n",
       "      <td>5.010998</td>\n",
       "    </tr>\n",
       "    <tr>\n",
       "      <th>177</th>\n",
       "      <td>1.545729</td>\n",
       "      <td>0.029203</td>\n",
       "    </tr>\n",
       "    <tr>\n",
       "      <th>178</th>\n",
       "      <td>-2.078355</td>\n",
       "      <td>0.254137</td>\n",
       "    </tr>\n",
       "    <tr>\n",
       "      <th>179</th>\n",
       "      <td>-2.286048</td>\n",
       "      <td>1.004246</td>\n",
       "    </tr>\n",
       "  </tbody>\n",
       "</table>\n",
       "<p>180 rows × 2 columns</p>\n",
       "</div>"
      ],
      "text/plain": [
       "            0         1\n",
       "0   -2.470081 -0.782910\n",
       "1   -1.886121  0.438298\n",
       "2    0.927528  1.691498\n",
       "3    0.062161 -2.490860\n",
       "4    2.193748  0.638513\n",
       "5   -2.330272 -1.144814\n",
       "6    2.088236  1.089616\n",
       "7    2.302093  0.713133\n",
       "8    3.482484  0.533484\n",
       "9   -1.893246  0.440248\n",
       "10  -0.027476  0.873297\n",
       "11  -1.450913 -1.406157\n",
       "12  -1.870093  1.032219\n",
       "13  -0.106007  0.320026\n",
       "14   1.264736 -2.447809\n",
       "15   2.479769 -1.124843\n",
       "16  -2.419405 -0.167020\n",
       "17   2.161373 -1.066740\n",
       "18  -3.283181 -2.501339\n",
       "19  -1.858211  2.011265\n",
       "20  -1.692617  2.023186\n",
       "21   1.243529 -1.069982\n",
       "22  -0.564385  0.839634\n",
       "23   1.195313  0.690657\n",
       "24  -1.526765  0.881794\n",
       "25  -0.850028  2.114817\n",
       "26  -0.957033  1.186932\n",
       "27  -2.760161 -1.038272\n",
       "28  -0.654772  0.933422\n",
       "29  -1.747876 -0.745069\n",
       "..        ...       ...\n",
       "150 -0.850159 -2.089214\n",
       "151 -1.053275  0.654556\n",
       "152  2.056583 -2.699377\n",
       "153 -0.797036 -0.561153\n",
       "154  0.933950  1.099005\n",
       "155 -0.808131  1.139512\n",
       "156 -0.757693  1.864910\n",
       "157 -2.345971  0.632606\n",
       "158 -2.588646 -1.119865\n",
       "159  3.357527 -0.264513\n",
       "160 -2.419065 -1.135707\n",
       "161  2.082333 -0.830299\n",
       "162  3.590819  1.362253\n",
       "163  2.623863 -0.402164\n",
       "164  2.096040 -1.048880\n",
       "165 -2.170680  1.908226\n",
       "166  1.133331 -2.069908\n",
       "167  0.885247 -1.754916\n",
       "168  0.721187  0.897425\n",
       "169  0.278441  0.272219\n",
       "170  2.481663 -0.289284\n",
       "171  0.572188  0.187569\n",
       "172  1.165755 -2.415481\n",
       "173  1.505903 -1.543459\n",
       "174 -0.650128 -0.400125\n",
       "175  1.612698  0.014658\n",
       "176  2.183811  5.010998\n",
       "177  1.545729  0.029203\n",
       "178 -2.078355  0.254137\n",
       "179 -2.286048  1.004246\n",
       "\n",
       "[180 rows x 2 columns]"
      ]
     },
     "execution_count": 55,
     "metadata": {},
     "output_type": "execute_result"
    }
   ],
   "source": [
    "x_pca = pd.DataFrame(x_pca)\n",
    "x_pca"
   ]
  },
  {
   "cell_type": "code",
   "execution_count": 56,
   "metadata": {
    "ExecuteTime": {
     "end_time": "2019-10-30T17:15:43.891175Z",
     "start_time": "2019-10-30T17:15:43.423142Z"
    }
   },
   "outputs": [
    {
     "name": "stdout",
     "output_type": "stream",
     "text": [
      "Log loss for train data: 0.12561523345409495\n",
      "Log loss for test data: 2.23220046710448\n"
     ]
    },
    {
     "name": "stderr",
     "output_type": "stream",
     "text": [
      "C:\\ularFamily\\Anaconda3\\lib\\site-packages\\sklearn\\ensemble\\forest.py:245: FutureWarning: The default value of n_estimators will change from 10 in version 0.20 to 100 in 0.22.\n",
      "  \"10 in version 0.20 to 100 in 0.22.\", FutureWarning)\n",
      "C:\\ularFamily\\Anaconda3\\lib\\site-packages\\ipykernel_launcher.py:3: DataConversionWarning: A column-vector y was passed when a 1d array was expected. Please change the shape of y to (n_samples,), for example using ravel().\n",
      "  This is separate from the ipykernel package so we can avoid doing imports until\n"
     ]
    },
    {
     "data": {
      "text/plain": [
       "Text(0.5, 0, 'Mean Impurity Reduction')"
      ]
     },
     "execution_count": 56,
     "metadata": {},
     "output_type": "execute_result"
    },
    {
     "data": {
      "image/png": "[encoded data removed]",
      "text/plain": [
       "<Figure size 576x576 with 1 Axes>"
      ]
     },
     "metadata": {},
     "output_type": "display_data"
    }
   ],
   "source": [
    "X_train, X_test, y_train, y_test = train_test_split(x_pca, y, test_size = 0.3)\n",
    "rfc = RandomForestClassifier()\n",
    "rfc.fit(X_train, y_train)\n",
    "print('Log loss for train data: {}'.format(log_loss(y_train, rfc.predict_proba(X_train))))\n",
    "print('Log loss for test data: {}'.format(log_loss(y_test, rfc.predict_proba(X_test))))\n",
    "data_feature = pd.Series(rfc.feature_importances_, X_train.columns).sort_values()\n",
    "data_feature.plot(kind = 'barh', title = 'Feature Importances', width = 0.8, figsize = (8, 8))\n",
    "plt.xlabel('Mean Impurity Reduction')"
   ]
  },
  {
   "cell_type": "code",
   "execution_count": 57,
   "metadata": {
    "ExecuteTime": {
     "end_time": "2019-10-30T17:15:44.323205Z",
     "start_time": "2019-10-30T17:15:43.891175Z"
    }
   },
   "outputs": [
    {
     "name": "stdout",
     "output_type": "stream",
     "text": [
      "Log loss for train data: 0.11020354790972073\n",
      "Log loss for test data: 0.4468333111001397\n"
     ]
    },
    {
     "name": "stderr",
     "output_type": "stream",
     "text": [
      "C:\\ularFamily\\Anaconda3\\lib\\site-packages\\sklearn\\ensemble\\forest.py:245: FutureWarning: The default value of n_estimators will change from 10 in version 0.20 to 100 in 0.22.\n",
      "  \"10 in version 0.20 to 100 in 0.22.\", FutureWarning)\n",
      "C:\\ularFamily\\Anaconda3\\lib\\site-packages\\ipykernel_launcher.py:3: DataConversionWarning: A column-vector y was passed when a 1d array was expected. Please change the shape of y to (n_samples,), for example using ravel().\n",
      "  This is separate from the ipykernel package so we can avoid doing imports until\n"
     ]
    },
    {
     "data": {
      "text/plain": [
       "Text(0.5, 0, 'Mean Impurity Reduction')"
      ]
     },
     "execution_count": 57,
     "metadata": {},
     "output_type": "execute_result"
    },
    {
     "data": {
      "image/png": "[encoded data removed]",
      "text/plain": [
       "<Figure size 576x576 with 1 Axes>"
      ]
     },
     "metadata": {},
     "output_type": "display_data"
    }
   ],
   "source": [
    "X_train, X_test, y_train, y_test = train_test_split(x_pca, y, test_size = 0.3,stratify=y)\n",
    "rfc = RandomForestClassifier()\n",
    "rfc.fit(X_train, y_train)\n",
    "print('Log loss for train data: {}'.format(log_loss(y_train, rfc.predict_proba(X_train))))\n",
    "print('Log loss for test data: {}'.format(log_loss(y_test, rfc.predict_proba(X_test))))\n",
    "data_feature = pd.Series(rfc.feature_importances_, X_train.columns).sort_values()\n",
    "data_feature.plot(kind = 'barh', title = 'Feature Importances', width = 0.8, figsize = (8, 8))\n",
    "plt.xlabel('Mean Impurity Reduction')"
   ]
  },
  {
   "cell_type": "code",
   "execution_count": 58,
   "metadata": {
    "ExecuteTime": {
     "end_time": "2019-10-30T17:15:45.291272Z",
     "start_time": "2019-10-30T17:15:44.323205Z"
    }
   },
   "outputs": [
    {
     "name": "stderr",
     "output_type": "stream",
     "text": [
      "C:\\ularFamily\\Anaconda3\\lib\\site-packages\\sklearn\\ensemble\\gradient_boosting.py:1450: DataConversionWarning: A column-vector y was passed when a 1d array was expected. Please change the shape of y to (n_samples, ), for example using ravel().\n",
      "  y = column_or_1d(y, warn=True)\n"
     ]
    },
    {
     "name": "stdout",
     "output_type": "stream",
     "text": [
      "Log loss for train data: 0.056859899939956195\n",
      "Log loss for test data: 0.5727299196520408\n"
     ]
    },
    {
     "data": {
      "text/plain": [
       "Text(0.5, 0, 'Mean Impurity Reduction')"
      ]
     },
     "execution_count": 58,
     "metadata": {},
     "output_type": "execute_result"
    },
    {
     "data": {
      "image/png": "[encoded data removed]",
      "text/plain": [
       "<Figure size 576x576 with 1 Axes>"
      ]
     },
     "metadata": {},
     "output_type": "display_data"
    }
   ],
   "source": [
    "from sklearn.ensemble import GradientBoostingClassifier\n",
    "gbc=GradientBoostingClassifier(n_estimators=1000,learning_rate=0.01)\n",
    "gbc.fit(X_train, y_train)\n",
    "print('Log loss for train data: {}'.format(log_loss(y_train, gbc.predict_proba(X_train))))\n",
    "print('Log loss for test data: {}'.format(log_loss(y_test, gbc.predict_proba(X_test))))\n",
    "data_feature = pd.Series(gbc.feature_importances_, X_train.columns).sort_values()\n",
    "data_feature.plot(kind = 'barh', title = 'Feature Importances', width = 0.8, figsize = (8, 8))\n",
    "plt.xlabel('Mean Impurity Reduction')"
   ]
  },
  {
   "cell_type": "code",
   "execution_count": 59,
   "metadata": {
    "ExecuteTime": {
     "end_time": "2019-10-30T17:15:46.495648Z",
     "start_time": "2019-10-30T17:15:45.291272Z"
    }
   },
   "outputs": [
    {
     "name": "stderr",
     "output_type": "stream",
     "text": [
      "C:\\ularFamily\\Anaconda3\\lib\\site-packages\\sklearn\\ensemble\\gradient_boosting.py:1450: DataConversionWarning: A column-vector y was passed when a 1d array was expected. Please change the shape of y to (n_samples, ), for example using ravel().\n",
      "  y = column_or_1d(y, warn=True)\n"
     ]
    },
    {
     "name": "stdout",
     "output_type": "stream",
     "text": [
      "Log loss for train data: 0.048345156537808485\n",
      "Log loss for test data: 0.5656865940385687\n"
     ]
    },
    {
     "data": {
      "text/plain": [
       "Text(0.5, 0, 'Mean Impurity Reduction')"
      ]
     },
     "execution_count": 59,
     "metadata": {},
     "output_type": "execute_result"
    },
    {
     "data": {
      "image/png": "[encoded data removed]",
      "text/plain": [
       "<Figure size 576x576 with 1 Axes>"
      ]
     },
     "metadata": {},
     "output_type": "display_data"
    }
   ],
   "source": [
    "X_train, X_test, y_train, y_test = train_test_split(X.drop(['fasting_blood_sugar_gt_120_mg_per_dl', \n",
    "                                                           'slope_of_peak_exercise_st_segment',\n",
    "                                                           'resting_ekg_results',\n",
    "                                                           'sex',\n",
    "                                                           'exercise_induced_angina'], axis = 1), y, test_size = 0.3,stratify=y)\n",
    "gbc=GradientBoostingClassifier(n_estimators=1000,\n",
    "                  \n",
    "                learning_rate=.01,\n",
    "                  )\n",
    "gbc.fit(X_train, y_train)\n",
    "print('Log loss for train data: {}'.format(log_loss(y_train, gbc.predict_proba(X_train))))\n",
    "print('Log loss for test data: {}'.format(log_loss(y_test, gbc.predict_proba(X_test))))\n",
    "data_feature = pd.Series(gbc.feature_importances_, X_train.columns).sort_values()\n",
    "data_feature.plot(kind = 'barh', title = 'Feature Importances', width = 0.8, figsize = (8, 8))\n",
    "plt.xlabel('Mean Impurity Reduction')"
   ]
  },
  {
   "cell_type": "code",
   "execution_count": 60,
   "metadata": {
    "ExecuteTime": {
     "end_time": "2019-10-30T17:15:47.501115Z",
     "start_time": "2019-10-30T17:15:46.495648Z"
    }
   },
   "outputs": [
    {
     "name": "stderr",
     "output_type": "stream",
     "text": [
      "C:\\ularFamily\\Anaconda3\\lib\\site-packages\\sklearn\\preprocessing\\label.py:219: DataConversionWarning: A column-vector y was passed when a 1d array was expected. Please change the shape of y to (n_samples, ), for example using ravel().\n",
      "  y = column_or_1d(y, warn=True)\n",
      "C:\\ularFamily\\Anaconda3\\lib\\site-packages\\sklearn\\preprocessing\\label.py:252: DataConversionWarning: A column-vector y was passed when a 1d array was expected. Please change the shape of y to (n_samples, ), for example using ravel().\n",
      "  y = column_or_1d(y, warn=True)\n"
     ]
    },
    {
     "name": "stdout",
     "output_type": "stream",
     "text": [
      "Log loss for train data: 0.02798442224582051\n",
      "Log loss for test data: 0.6135085744126291\n"
     ]
    },
    {
     "data": {
      "text/plain": [
       "Text(0.5, 0, 'Mean Impurity Reduction')"
      ]
     },
     "execution_count": 60,
     "metadata": {},
     "output_type": "execute_result"
    },
    {
     "data": {
      "image/png": "[encoded data removed]",
      "text/plain": [
       "<Figure size 576x576 with 1 Axes>"
      ]
     },
     "metadata": {},
     "output_type": "display_data"
    }
   ],
   "source": [
    "from xgboost import XGBClassifier\n",
    "xgbc=XGBClassifier(n_estimators=1000,n_jobs=-1,)\n",
    "xgbc.fit(X_train,y_train,)\n",
    "print('Log loss for train data: {}'.format(log_loss(y_train, xgbc.predict_proba(X_train))))\n",
    "print('Log loss for test data: {}'.format(log_loss(y_test, xgbc.predict_proba(X_test))))\n",
    "data_feature = pd.Series(xgbc.feature_importances_, X_train.columns).sort_values()\n",
    "data_feature.plot(kind = 'barh', title = 'Feature Importances', width = 0.8, figsize = (8, 8))\n",
    "plt.xlabel('Mean Impurity Reduction')"
   ]
  },
  {
   "cell_type": "code",
   "execution_count": 61,
   "metadata": {
    "ExecuteTime": {
     "end_time": "2019-10-30T17:15:48.745829Z",
     "start_time": "2019-10-30T17:15:47.503113Z"
    }
   },
   "outputs": [
    {
     "name": "stderr",
     "output_type": "stream",
     "text": [
      "C:\\ularFamily\\Anaconda3\\lib\\site-packages\\sklearn\\preprocessing\\label.py:219: DataConversionWarning: A column-vector y was passed when a 1d array was expected. Please change the shape of y to (n_samples, ), for example using ravel().\n",
      "  y = column_or_1d(y, warn=True)\n",
      "C:\\ularFamily\\Anaconda3\\lib\\site-packages\\sklearn\\preprocessing\\label.py:252: DataConversionWarning: A column-vector y was passed when a 1d array was expected. Please change the shape of y to (n_samples, ), for example using ravel().\n",
      "  y = column_or_1d(y, warn=True)\n"
     ]
    },
    {
     "name": "stdout",
     "output_type": "stream",
     "text": [
      "Log loss for train data: 0.30751227161344435\n",
      "Log loss for test data: 0.3712354832052909\n"
     ]
    },
    {
     "data": {
      "text/plain": [
       "Text(0.5, 0, 'Mean Impurity Reduction')"
      ]
     },
     "execution_count": 61,
     "metadata": {},
     "output_type": "execute_result"
    },
    {
     "data": {
      "image/png": "[encoded data removed]",
      "text/plain": [
       "<Figure size 576x576 with 1 Axes>"
      ]
     },
     "metadata": {},
     "output_type": "display_data"
    }
   ],
   "source": [
    "xgbc=XGBClassifier(n_estimators=1000,n_jobs=-1,\n",
    "                  #parameters for random forest\n",
    "                   booster='gbtree',subsample=0.1,\n",
    "                   colsample_bynode=0.1,learning_rate=1,\n",
    "                   num_parallel_tree=10,num_boost_round=1\n",
    "                  )\n",
    "xgbc.fit(X_train,y_train,)\n",
    "print('Log loss for train data: {}'.format(log_loss(y_train, xgbc.predict_proba(X_train))))\n",
    "print('Log loss for test data: {}'.format(log_loss(y_test, xgbc.predict_proba(X_test))))\n",
    "data_feature = pd.Series(xgbc.feature_importances_, X_train.columns).sort_values()\n",
    "data_feature.plot(kind = 'barh', title = 'Feature Importances', width = 0.8, figsize = (8, 8))\n",
    "plt.xlabel('Mean Impurity Reduction')"
   ]
  }
 ],
 "metadata": {
  "hide_input": false,
  "kernelspec": {
   "display_name": "Python 3",
   "language": "python",
   "name": "python3"
  },
  "language_info": {
   "codemirror_mode": {
    "name": "ipython",
    "version": 3
   },
   "file_extension": ".py",
   "mimetype": "text/x-python",
   "name": "python",
   "nbconvert_exporter": "python",
   "pygments_lexer": "ipython3",
   "version": "3.7.3"
  },
  "toc": {
   "base_numbering": 1,
   "nav_menu": {},
   "number_sections": true,
   "sideBar": true,
   "skip_h1_title": false,
   "title_cell": "Table of Contents",
   "title_sidebar": "Contents",
   "toc_cell": false,
   "toc_position": {},
   "toc_section_display": true,
   "toc_window_display": false
  },
  "varInspector": {
   "cols": {
    "lenName": 16,
    "lenType": 16,
    "lenVar": 40
   },
   "kernels_config": {
    "python": {
     "delete_cmd_postfix": "",
     "delete_cmd_prefix": "del ",
     "library": "var_list.py",
     "varRefreshCmd": "print(var_dic_list())"
    },
    "r": {
     "delete_cmd_postfix": ") ",
     "delete_cmd_prefix": "rm(",
     "library": "var_list.r",
     "varRefreshCmd": "cat(var_dic_list()) "
    }
   },
   "types_to_exclude": [
    "module",
    "function",
    "builtin_function_or_method",
    "instance",
    "_Feature"
   ],
   "window_display": false
  }
 },
 "nbformat": 4,
 "nbformat_minor": 2
}
